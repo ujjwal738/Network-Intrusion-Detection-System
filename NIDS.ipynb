{
  "cells": [
    {
      "cell_type": "markdown",
      "metadata": {
        "id": "r9TJlulcrXc8"
      },
      "source": []
    },
    {
      "cell_type": "code",
      "execution_count": null,
      "metadata": {
        "id": "S3ZVa1kTrfmS"
      },
      "outputs": [],
      "source": [
        "import pandas as pd\n",
        "import numpy as np\n",
        "from sklearn.preprocessing import OneHotEncoder , StandardScaler\n",
        "from sklearn.model_selection import train_test_split\n",
        "\n"
      ]
    },
    {
      "cell_type": "code",
      "execution_count": null,
      "metadata": {
        "id": "QsiW-1mTuEux"
      },
      "outputs": [],
      "source": [
        "data  = pd.read_csv('/content/drive/MyDrive/UNSW_NB15_training-set.csv')\n",
        "num_features = len(data.columns)"
      ]
    },
    {
      "cell_type": "code",
      "execution_count": null,
      "metadata": {
        "colab": {
          "base_uri": "https://localhost:8080/"
        },
        "id": "k207ANiagDiF",
        "outputId": "8e32e668-ba33-44b8-e346-1e4d620c5a7b"
      },
      "outputs": [
        {
          "data": {
            "text/plain": [
              "45"
            ]
          },
          "execution_count": 155,
          "metadata": {},
          "output_type": "execute_result"
        }
      ],
      "source": [
        "num_features"
      ]
    },
    {
      "cell_type": "code",
      "execution_count": null,
      "metadata": {
        "colab": {
          "base_uri": "https://localhost:8080/",
          "height": 444
        },
        "collapsed": true,
        "id": "9FieILV5T-qq",
        "outputId": "1d3ad3e0-0845-4f21-a502-ee939806943e"
      },
      "outputs": [
        {
          "data": {
            "application/vnd.google.colaboratory.intrinsic+json": {
              "type": "dataframe",
              "variable_name": "data"
            },
            "text/html": [
              "\n",
              "  <div id=\"df-6a52f281-40cd-492b-afd7-0c2d47d8fa82\" class=\"colab-df-container\">\n",
              "    <div>\n",
              "<style scoped>\n",
              "    .dataframe tbody tr th:only-of-type {\n",
              "        vertical-align: middle;\n",
              "    }\n",
              "\n",
              "    .dataframe tbody tr th {\n",
              "        vertical-align: top;\n",
              "    }\n",
              "\n",
              "    .dataframe thead th {\n",
              "        text-align: right;\n",
              "    }\n",
              "</style>\n",
              "<table border=\"1\" class=\"dataframe\">\n",
              "  <thead>\n",
              "    <tr style=\"text-align: right;\">\n",
              "      <th></th>\n",
              "      <th>id</th>\n",
              "      <th>dur</th>\n",
              "      <th>proto</th>\n",
              "      <th>service</th>\n",
              "      <th>state</th>\n",
              "      <th>spkts</th>\n",
              "      <th>dpkts</th>\n",
              "      <th>sbytes</th>\n",
              "      <th>dbytes</th>\n",
              "      <th>rate</th>\n",
              "      <th>...</th>\n",
              "      <th>ct_dst_sport_ltm</th>\n",
              "      <th>ct_dst_src_ltm</th>\n",
              "      <th>is_ftp_login</th>\n",
              "      <th>ct_ftp_cmd</th>\n",
              "      <th>ct_flw_http_mthd</th>\n",
              "      <th>ct_src_ltm</th>\n",
              "      <th>ct_srv_dst</th>\n",
              "      <th>is_sm_ips_ports</th>\n",
              "      <th>attack_cat</th>\n",
              "      <th>label</th>\n",
              "    </tr>\n",
              "  </thead>\n",
              "  <tbody>\n",
              "    <tr>\n",
              "      <th>0</th>\n",
              "      <td>1</td>\n",
              "      <td>0.000011</td>\n",
              "      <td>udp</td>\n",
              "      <td>-</td>\n",
              "      <td>INT</td>\n",
              "      <td>2</td>\n",
              "      <td>0</td>\n",
              "      <td>496</td>\n",
              "      <td>0</td>\n",
              "      <td>90909.090200</td>\n",
              "      <td>...</td>\n",
              "      <td>1</td>\n",
              "      <td>2</td>\n",
              "      <td>0</td>\n",
              "      <td>0</td>\n",
              "      <td>0</td>\n",
              "      <td>1</td>\n",
              "      <td>2</td>\n",
              "      <td>0</td>\n",
              "      <td>Normal</td>\n",
              "      <td>0</td>\n",
              "    </tr>\n",
              "    <tr>\n",
              "      <th>1</th>\n",
              "      <td>2</td>\n",
              "      <td>0.000008</td>\n",
              "      <td>udp</td>\n",
              "      <td>-</td>\n",
              "      <td>INT</td>\n",
              "      <td>2</td>\n",
              "      <td>0</td>\n",
              "      <td>1762</td>\n",
              "      <td>0</td>\n",
              "      <td>125000.000300</td>\n",
              "      <td>...</td>\n",
              "      <td>1</td>\n",
              "      <td>2</td>\n",
              "      <td>0</td>\n",
              "      <td>0</td>\n",
              "      <td>0</td>\n",
              "      <td>1</td>\n",
              "      <td>2</td>\n",
              "      <td>0</td>\n",
              "      <td>Normal</td>\n",
              "      <td>0</td>\n",
              "    </tr>\n",
              "    <tr>\n",
              "      <th>2</th>\n",
              "      <td>3</td>\n",
              "      <td>0.000005</td>\n",
              "      <td>udp</td>\n",
              "      <td>-</td>\n",
              "      <td>INT</td>\n",
              "      <td>2</td>\n",
              "      <td>0</td>\n",
              "      <td>1068</td>\n",
              "      <td>0</td>\n",
              "      <td>200000.005100</td>\n",
              "      <td>...</td>\n",
              "      <td>1</td>\n",
              "      <td>3</td>\n",
              "      <td>0</td>\n",
              "      <td>0</td>\n",
              "      <td>0</td>\n",
              "      <td>1</td>\n",
              "      <td>3</td>\n",
              "      <td>0</td>\n",
              "      <td>Normal</td>\n",
              "      <td>0</td>\n",
              "    </tr>\n",
              "    <tr>\n",
              "      <th>3</th>\n",
              "      <td>4</td>\n",
              "      <td>0.000006</td>\n",
              "      <td>udp</td>\n",
              "      <td>-</td>\n",
              "      <td>INT</td>\n",
              "      <td>2</td>\n",
              "      <td>0</td>\n",
              "      <td>900</td>\n",
              "      <td>0</td>\n",
              "      <td>166666.660800</td>\n",
              "      <td>...</td>\n",
              "      <td>1</td>\n",
              "      <td>3</td>\n",
              "      <td>0</td>\n",
              "      <td>0</td>\n",
              "      <td>0</td>\n",
              "      <td>2</td>\n",
              "      <td>3</td>\n",
              "      <td>0</td>\n",
              "      <td>Normal</td>\n",
              "      <td>0</td>\n",
              "    </tr>\n",
              "    <tr>\n",
              "      <th>4</th>\n",
              "      <td>5</td>\n",
              "      <td>0.000010</td>\n",
              "      <td>udp</td>\n",
              "      <td>-</td>\n",
              "      <td>INT</td>\n",
              "      <td>2</td>\n",
              "      <td>0</td>\n",
              "      <td>2126</td>\n",
              "      <td>0</td>\n",
              "      <td>100000.002500</td>\n",
              "      <td>...</td>\n",
              "      <td>1</td>\n",
              "      <td>3</td>\n",
              "      <td>0</td>\n",
              "      <td>0</td>\n",
              "      <td>0</td>\n",
              "      <td>2</td>\n",
              "      <td>3</td>\n",
              "      <td>0</td>\n",
              "      <td>Normal</td>\n",
              "      <td>0</td>\n",
              "    </tr>\n",
              "    <tr>\n",
              "      <th>...</th>\n",
              "      <td>...</td>\n",
              "      <td>...</td>\n",
              "      <td>...</td>\n",
              "      <td>...</td>\n",
              "      <td>...</td>\n",
              "      <td>...</td>\n",
              "      <td>...</td>\n",
              "      <td>...</td>\n",
              "      <td>...</td>\n",
              "      <td>...</td>\n",
              "      <td>...</td>\n",
              "      <td>...</td>\n",
              "      <td>...</td>\n",
              "      <td>...</td>\n",
              "      <td>...</td>\n",
              "      <td>...</td>\n",
              "      <td>...</td>\n",
              "      <td>...</td>\n",
              "      <td>...</td>\n",
              "      <td>...</td>\n",
              "      <td>...</td>\n",
              "    </tr>\n",
              "    <tr>\n",
              "      <th>9994</th>\n",
              "      <td>9995</td>\n",
              "      <td>1.185800</td>\n",
              "      <td>tcp</td>\n",
              "      <td>-</td>\n",
              "      <td>FIN</td>\n",
              "      <td>10</td>\n",
              "      <td>8</td>\n",
              "      <td>564</td>\n",
              "      <td>354</td>\n",
              "      <td>14.336314</td>\n",
              "      <td>...</td>\n",
              "      <td>1</td>\n",
              "      <td>1</td>\n",
              "      <td>0</td>\n",
              "      <td>0</td>\n",
              "      <td>0</td>\n",
              "      <td>1</td>\n",
              "      <td>1</td>\n",
              "      <td>0</td>\n",
              "      <td>Reconnaissance</td>\n",
              "      <td>1</td>\n",
              "    </tr>\n",
              "    <tr>\n",
              "      <th>9995</th>\n",
              "      <td>9996</td>\n",
              "      <td>0.932214</td>\n",
              "      <td>tcp</td>\n",
              "      <td>-</td>\n",
              "      <td>FIN</td>\n",
              "      <td>14</td>\n",
              "      <td>10</td>\n",
              "      <td>1430</td>\n",
              "      <td>2272</td>\n",
              "      <td>24.672446</td>\n",
              "      <td>...</td>\n",
              "      <td>1</td>\n",
              "      <td>1</td>\n",
              "      <td>0</td>\n",
              "      <td>0</td>\n",
              "      <td>0</td>\n",
              "      <td>1</td>\n",
              "      <td>1</td>\n",
              "      <td>0</td>\n",
              "      <td>DoS</td>\n",
              "      <td>1</td>\n",
              "    </tr>\n",
              "    <tr>\n",
              "      <th>9996</th>\n",
              "      <td>9997</td>\n",
              "      <td>1.112387</td>\n",
              "      <td>tcp</td>\n",
              "      <td>smtp</td>\n",
              "      <td>FIN</td>\n",
              "      <td>72</td>\n",
              "      <td>28</td>\n",
              "      <td>69845</td>\n",
              "      <td>2076</td>\n",
              "      <td>88.997808</td>\n",
              "      <td>...</td>\n",
              "      <td>1</td>\n",
              "      <td>1</td>\n",
              "      <td>0</td>\n",
              "      <td>0</td>\n",
              "      <td>0</td>\n",
              "      <td>18</td>\n",
              "      <td>1</td>\n",
              "      <td>0</td>\n",
              "      <td>Exploits</td>\n",
              "      <td>1</td>\n",
              "    </tr>\n",
              "    <tr>\n",
              "      <th>9997</th>\n",
              "      <td>9998</td>\n",
              "      <td>0.931772</td>\n",
              "      <td>tcp</td>\n",
              "      <td>http</td>\n",
              "      <td>FIN</td>\n",
              "      <td>10</td>\n",
              "      <td>8</td>\n",
              "      <td>798</td>\n",
              "      <td>1212</td>\n",
              "      <td>18.244807</td>\n",
              "      <td>...</td>\n",
              "      <td>1</td>\n",
              "      <td>2</td>\n",
              "      <td>0</td>\n",
              "      <td>0</td>\n",
              "      <td>1</td>\n",
              "      <td>1</td>\n",
              "      <td>1</td>\n",
              "      <td>0</td>\n",
              "      <td>DoS</td>\n",
              "      <td>1</td>\n",
              "    </tr>\n",
              "    <tr>\n",
              "      <th>9998</th>\n",
              "      <td>9999</td>\n",
              "      <td>1.067056</td>\n",
              "      <td>tcp</td>\n",
              "      <td>http</td>\n",
              "      <td>FIN</td>\n",
              "      <td>14</td>\n",
              "      <td>12</td>\n",
              "      <td>1778</td>\n",
              "      <td>2800</td>\n",
              "      <td>23.428950</td>\n",
              "      <td>...</td>\n",
              "      <td>1</td>\n",
              "      <td>1</td>\n",
              "      <td>0</td>\n",
              "      <td>0</td>\n",
              "      <td>1</td>\n",
              "      <td>1</td>\n",
              "      <td>1</td>\n",
              "      <td>0</td>\n",
              "      <td>Exploits</td>\n",
              "      <td>1</td>\n",
              "    </tr>\n",
              "  </tbody>\n",
              "</table>\n",
              "<p>9999 rows × 45 columns</p>\n",
              "</div>\n",
              "    <div class=\"colab-df-buttons\">\n",
              "\n",
              "  <div class=\"colab-df-container\">\n",
              "    <button class=\"colab-df-convert\" onclick=\"convertToInteractive('df-6a52f281-40cd-492b-afd7-0c2d47d8fa82')\"\n",
              "            title=\"Convert this dataframe to an interactive table.\"\n",
              "            style=\"display:none;\">\n",
              "\n",
              "  <svg xmlns=\"http://www.w3.org/2000/svg\" height=\"24px\" viewBox=\"0 -960 960 960\">\n",
              "    <path d=\"M120-120v-720h720v720H120Zm60-500h600v-160H180v160Zm220 220h160v-160H400v160Zm0 220h160v-160H400v160ZM180-400h160v-160H180v160Zm440 0h160v-160H620v160ZM180-180h160v-160H180v160Zm440 0h160v-160H620v160Z\"/>\n",
              "  </svg>\n",
              "    </button>\n",
              "\n",
              "  <style>\n",
              "    .colab-df-container {\n",
              "      display:flex;\n",
              "      gap: 12px;\n",
              "    }\n",
              "\n",
              "    .colab-df-convert {\n",
              "      background-color: #E8F0FE;\n",
              "      border: none;\n",
              "      border-radius: 50%;\n",
              "      cursor: pointer;\n",
              "      display: none;\n",
              "      fill: #1967D2;\n",
              "      height: 32px;\n",
              "      padding: 0 0 0 0;\n",
              "      width: 32px;\n",
              "    }\n",
              "\n",
              "    .colab-df-convert:hover {\n",
              "      background-color: #E2EBFA;\n",
              "      box-shadow: 0px 1px 2px rgba(60, 64, 67, 0.3), 0px 1px 3px 1px rgba(60, 64, 67, 0.15);\n",
              "      fill: #174EA6;\n",
              "    }\n",
              "\n",
              "    .colab-df-buttons div {\n",
              "      margin-bottom: 4px;\n",
              "    }\n",
              "\n",
              "    [theme=dark] .colab-df-convert {\n",
              "      background-color: #3B4455;\n",
              "      fill: #D2E3FC;\n",
              "    }\n",
              "\n",
              "    [theme=dark] .colab-df-convert:hover {\n",
              "      background-color: #434B5C;\n",
              "      box-shadow: 0px 1px 3px 1px rgba(0, 0, 0, 0.15);\n",
              "      filter: drop-shadow(0px 1px 2px rgba(0, 0, 0, 0.3));\n",
              "      fill: #FFFFFF;\n",
              "    }\n",
              "  </style>\n",
              "\n",
              "    <script>\n",
              "      const buttonEl =\n",
              "        document.querySelector('#df-6a52f281-40cd-492b-afd7-0c2d47d8fa82 button.colab-df-convert');\n",
              "      buttonEl.style.display =\n",
              "        google.colab.kernel.accessAllowed ? 'block' : 'none';\n",
              "\n",
              "      async function convertToInteractive(key) {\n",
              "        const element = document.querySelector('#df-6a52f281-40cd-492b-afd7-0c2d47d8fa82');\n",
              "        const dataTable =\n",
              "          await google.colab.kernel.invokeFunction('convertToInteractive',\n",
              "                                                    [key], {});\n",
              "        if (!dataTable) return;\n",
              "\n",
              "        const docLinkHtml = 'Like what you see? Visit the ' +\n",
              "          '<a target=\"_blank\" href=https://colab.research.google.com/notebooks/data_table.ipynb>data table notebook</a>'\n",
              "          + ' to learn more about interactive tables.';\n",
              "        element.innerHTML = '';\n",
              "        dataTable['output_type'] = 'display_data';\n",
              "        await google.colab.output.renderOutput(dataTable, element);\n",
              "        const docLink = document.createElement('div');\n",
              "        docLink.innerHTML = docLinkHtml;\n",
              "        element.appendChild(docLink);\n",
              "      }\n",
              "    </script>\n",
              "  </div>\n",
              "\n",
              "\n",
              "<div id=\"df-0d5af07b-1fa1-4919-9d4c-fcff2a0f6a5f\">\n",
              "  <button class=\"colab-df-quickchart\" onclick=\"quickchart('df-0d5af07b-1fa1-4919-9d4c-fcff2a0f6a5f')\"\n",
              "            title=\"Suggest charts\"\n",
              "            style=\"display:none;\">\n",
              "\n",
              "<svg xmlns=\"http://www.w3.org/2000/svg\" height=\"24px\"viewBox=\"0 0 24 24\"\n",
              "     width=\"24px\">\n",
              "    <g>\n",
              "        <path d=\"M19 3H5c-1.1 0-2 .9-2 2v14c0 1.1.9 2 2 2h14c1.1 0 2-.9 2-2V5c0-1.1-.9-2-2-2zM9 17H7v-7h2v7zm4 0h-2V7h2v10zm4 0h-2v-4h2v4z\"/>\n",
              "    </g>\n",
              "</svg>\n",
              "  </button>\n",
              "\n",
              "<style>\n",
              "  .colab-df-quickchart {\n",
              "      --bg-color: #E8F0FE;\n",
              "      --fill-color: #1967D2;\n",
              "      --hover-bg-color: #E2EBFA;\n",
              "      --hover-fill-color: #174EA6;\n",
              "      --disabled-fill-color: #AAA;\n",
              "      --disabled-bg-color: #DDD;\n",
              "  }\n",
              "\n",
              "  [theme=dark] .colab-df-quickchart {\n",
              "      --bg-color: #3B4455;\n",
              "      --fill-color: #D2E3FC;\n",
              "      --hover-bg-color: #434B5C;\n",
              "      --hover-fill-color: #FFFFFF;\n",
              "      --disabled-bg-color: #3B4455;\n",
              "      --disabled-fill-color: #666;\n",
              "  }\n",
              "\n",
              "  .colab-df-quickchart {\n",
              "    background-color: var(--bg-color);\n",
              "    border: none;\n",
              "    border-radius: 50%;\n",
              "    cursor: pointer;\n",
              "    display: none;\n",
              "    fill: var(--fill-color);\n",
              "    height: 32px;\n",
              "    padding: 0;\n",
              "    width: 32px;\n",
              "  }\n",
              "\n",
              "  .colab-df-quickchart:hover {\n",
              "    background-color: var(--hover-bg-color);\n",
              "    box-shadow: 0 1px 2px rgba(60, 64, 67, 0.3), 0 1px 3px 1px rgba(60, 64, 67, 0.15);\n",
              "    fill: var(--button-hover-fill-color);\n",
              "  }\n",
              "\n",
              "  .colab-df-quickchart-complete:disabled,\n",
              "  .colab-df-quickchart-complete:disabled:hover {\n",
              "    background-color: var(--disabled-bg-color);\n",
              "    fill: var(--disabled-fill-color);\n",
              "    box-shadow: none;\n",
              "  }\n",
              "\n",
              "  .colab-df-spinner {\n",
              "    border: 2px solid var(--fill-color);\n",
              "    border-color: transparent;\n",
              "    border-bottom-color: var(--fill-color);\n",
              "    animation:\n",
              "      spin 1s steps(1) infinite;\n",
              "  }\n",
              "\n",
              "  @keyframes spin {\n",
              "    0% {\n",
              "      border-color: transparent;\n",
              "      border-bottom-color: var(--fill-color);\n",
              "      border-left-color: var(--fill-color);\n",
              "    }\n",
              "    20% {\n",
              "      border-color: transparent;\n",
              "      border-left-color: var(--fill-color);\n",
              "      border-top-color: var(--fill-color);\n",
              "    }\n",
              "    30% {\n",
              "      border-color: transparent;\n",
              "      border-left-color: var(--fill-color);\n",
              "      border-top-color: var(--fill-color);\n",
              "      border-right-color: var(--fill-color);\n",
              "    }\n",
              "    40% {\n",
              "      border-color: transparent;\n",
              "      border-right-color: var(--fill-color);\n",
              "      border-top-color: var(--fill-color);\n",
              "    }\n",
              "    60% {\n",
              "      border-color: transparent;\n",
              "      border-right-color: var(--fill-color);\n",
              "    }\n",
              "    80% {\n",
              "      border-color: transparent;\n",
              "      border-right-color: var(--fill-color);\n",
              "      border-bottom-color: var(--fill-color);\n",
              "    }\n",
              "    90% {\n",
              "      border-color: transparent;\n",
              "      border-bottom-color: var(--fill-color);\n",
              "    }\n",
              "  }\n",
              "</style>\n",
              "\n",
              "  <script>\n",
              "    async function quickchart(key) {\n",
              "      const quickchartButtonEl =\n",
              "        document.querySelector('#' + key + ' button');\n",
              "      quickchartButtonEl.disabled = true;  // To prevent multiple clicks.\n",
              "      quickchartButtonEl.classList.add('colab-df-spinner');\n",
              "      try {\n",
              "        const charts = await google.colab.kernel.invokeFunction(\n",
              "            'suggestCharts', [key], {});\n",
              "      } catch (error) {\n",
              "        console.error('Error during call to suggestCharts:', error);\n",
              "      }\n",
              "      quickchartButtonEl.classList.remove('colab-df-spinner');\n",
              "      quickchartButtonEl.classList.add('colab-df-quickchart-complete');\n",
              "    }\n",
              "    (() => {\n",
              "      let quickchartButtonEl =\n",
              "        document.querySelector('#df-0d5af07b-1fa1-4919-9d4c-fcff2a0f6a5f button');\n",
              "      quickchartButtonEl.style.display =\n",
              "        google.colab.kernel.accessAllowed ? 'block' : 'none';\n",
              "    })();\n",
              "  </script>\n",
              "</div>\n",
              "\n",
              "    </div>\n",
              "  </div>\n"
            ],
            "text/plain": [
              "        id       dur proto service state  spkts  dpkts  sbytes  dbytes  \\\n",
              "0        1  0.000011   udp       -   INT      2      0     496       0   \n",
              "1        2  0.000008   udp       -   INT      2      0    1762       0   \n",
              "2        3  0.000005   udp       -   INT      2      0    1068       0   \n",
              "3        4  0.000006   udp       -   INT      2      0     900       0   \n",
              "4        5  0.000010   udp       -   INT      2      0    2126       0   \n",
              "...    ...       ...   ...     ...   ...    ...    ...     ...     ...   \n",
              "9994  9995  1.185800   tcp       -   FIN     10      8     564     354   \n",
              "9995  9996  0.932214   tcp       -   FIN     14     10    1430    2272   \n",
              "9996  9997  1.112387   tcp    smtp   FIN     72     28   69845    2076   \n",
              "9997  9998  0.931772   tcp    http   FIN     10      8     798    1212   \n",
              "9998  9999  1.067056   tcp    http   FIN     14     12    1778    2800   \n",
              "\n",
              "               rate  ...  ct_dst_sport_ltm  ct_dst_src_ltm  is_ftp_login  \\\n",
              "0      90909.090200  ...                 1               2             0   \n",
              "1     125000.000300  ...                 1               2             0   \n",
              "2     200000.005100  ...                 1               3             0   \n",
              "3     166666.660800  ...                 1               3             0   \n",
              "4     100000.002500  ...                 1               3             0   \n",
              "...             ...  ...               ...             ...           ...   \n",
              "9994      14.336314  ...                 1               1             0   \n",
              "9995      24.672446  ...                 1               1             0   \n",
              "9996      88.997808  ...                 1               1             0   \n",
              "9997      18.244807  ...                 1               2             0   \n",
              "9998      23.428950  ...                 1               1             0   \n",
              "\n",
              "      ct_ftp_cmd  ct_flw_http_mthd  ct_src_ltm  ct_srv_dst  is_sm_ips_ports  \\\n",
              "0              0                 0           1           2                0   \n",
              "1              0                 0           1           2                0   \n",
              "2              0                 0           1           3                0   \n",
              "3              0                 0           2           3                0   \n",
              "4              0                 0           2           3                0   \n",
              "...          ...               ...         ...         ...              ...   \n",
              "9994           0                 0           1           1                0   \n",
              "9995           0                 0           1           1                0   \n",
              "9996           0                 0          18           1                0   \n",
              "9997           0                 1           1           1                0   \n",
              "9998           0                 1           1           1                0   \n",
              "\n",
              "          attack_cat  label  \n",
              "0             Normal      0  \n",
              "1             Normal      0  \n",
              "2             Normal      0  \n",
              "3             Normal      0  \n",
              "4             Normal      0  \n",
              "...              ...    ...  \n",
              "9994  Reconnaissance      1  \n",
              "9995             DoS      1  \n",
              "9996        Exploits      1  \n",
              "9997             DoS      1  \n",
              "9998        Exploits      1  \n",
              "\n",
              "[9999 rows x 45 columns]"
            ]
          },
          "execution_count": 156,
          "metadata": {},
          "output_type": "execute_result"
        }
      ],
      "source": [
        "data.head(9999)"
      ]
    },
    {
      "cell_type": "code",
      "execution_count": null,
      "metadata": {
        "id": "6BpgLabPu15O"
      },
      "outputs": [],
      "source": [
        "categorical_features = ['proto','service','state']\n",
        "numerical_features = data.drop(columns = [ 'id' , 'proto' , 'service' , 'state', 'attack_cat']).columns"
      ]
    },
    {
      "cell_type": "code",
      "execution_count": null,
      "metadata": {
        "id": "yrHW2uZWVLrU"
      },
      "outputs": [],
      "source": [
        "encoder = OneHotEncoder(sparse_output = False , drop = 'first')\n",
        "encoder_categorical = encoder.fit_transform(data[categorical_features])"
      ]
    },
    {
      "cell_type": "code",
      "execution_count": null,
      "metadata": {
        "id": "jJ0e9i7aXPCT"
      },
      "outputs": [],
      "source": [
        "scalar = StandardScaler()\n",
        "scaled_numerical = scalar.fit_transform(data[numerical_features])"
      ]
    },
    {
      "cell_type": "code",
      "execution_count": null,
      "metadata": {
        "id": "mc9VFEmAa161"
      },
      "outputs": [],
      "source": [
        "X_prepared = np.hstack((encoder_categorical , scaled_numerical))\n"
      ]
    },
    {
      "cell_type": "code",
      "execution_count": null,
      "metadata": {
        "id": "TbEvAMx0a-JQ"
      },
      "outputs": [],
      "source": [
        "y = data['attack_cat'].values"
      ]
    },
    {
      "cell_type": "markdown",
      "metadata": {
        "id": "zTdBgvay0ptR"
      },
      "source": [
        "Embedded model creation"
      ]
    },
    {
      "cell_type": "code",
      "execution_count": null,
      "metadata": {
        "id": "7C9fmxbWbpPR"
      },
      "outputs": [],
      "source": [
        "import torch\n",
        "import torch.nn as nn"
      ]
    },
    {
      "cell_type": "code",
      "execution_count": null,
      "metadata": {
        "id": "IpE_t0fY096j"
      },
      "outputs": [],
      "source": [
        "class EmbeddedNetwork(nn.Module):\n",
        "  def __init__(self , input_dim , embedding_dim=128 ):\n",
        "    super(EmbeddedNetwork , self).__init__()\n",
        "\n",
        "    #i/p layer -> hidden layer 512neurons\n",
        "    self.fc1 = nn.Linear(input_dim , 512)\n",
        "    self.relu1 = nn.ReLU()\n",
        "\n",
        "    #i/p layer -> hidden layer 256neurons\n",
        "    self.fc2 = nn.Linear(512 , 256)\n",
        "    self.relu2 = nn.ReLU()\n",
        "\n",
        "    #i/p layer -> hidden layer 128 neurons\n",
        "    self.fc3 = nn.Linear(256 , 128)\n",
        "    self.relu3 = nn.ReLU()\n",
        "\n",
        "    #HL3 -> embedding layer of the embedding_data\n",
        "    self.fc4 = nn.Linear(128 , embedding_dim)\n",
        "\n",
        "  def forward(self , x):\n",
        "\n",
        "    x=self.fc1(x)\n",
        "    x=self.relu1(x)\n",
        "\n",
        "    x=self.fc2(x)\n",
        "    x=self.relu2(x)\n",
        "\n",
        "    x=self.fc3(x)\n",
        "    x=self.relu3(x)\n",
        "\n",
        "    x=self.fc4(x)\n",
        "\n",
        "    return x"
      ]
    },
    {
      "cell_type": "code",
      "execution_count": null,
      "metadata": {
        "id": "Ah4Ybq4ffC8f"
      },
      "outputs": [],
      "source": [
        "\n",
        "input_dim = X_prepared.shape[1]  # Match input dimension with the prepared data\n",
        "embedding_dim = 256\n",
        "model = EmbeddedNetwork(input_dim, embedding_dim)"
      ]
    },
    {
      "cell_type": "markdown",
      "metadata": {
        "id": "6700IpvWJKG8"
      },
      "source": [
        "Overview of the Next Steps:\n",
        "*   Positive and Negative Pairs\n",
        "*   InfoNCE\n",
        "*   Training loop"
      ]
    },
    {
      "cell_type": "code",
      "execution_count": null,
      "metadata": {
        "id": "Jne0IwsX6seL"
      },
      "outputs": [],
      "source": [
        "import random\n",
        "\n",
        "def create_pairs(data, labels):\n",
        "    positive_pairs = []\n",
        "    negative_pairs = []\n",
        "\n",
        "    for i in range(len(data)):\n",
        "        x_i = data[i]\n",
        "        label_i = labels[i]\n",
        "\n",
        "        # Positive pair selection\n",
        "        positive_indices = np.where(labels == label_i)[0].tolist()\n",
        "        positive_indices.remove(i)\n",
        "        if positive_indices:\n",
        "            positive_idx = random.choice(positive_indices)\n",
        "            x_j = data[positive_idx]\n",
        "            positive_pairs.append((x_i, x_j))\n",
        "\n",
        "        # Negative pair selection\n",
        "        negative_indices = np.where(labels != label_i)[0].tolist()\n",
        "        if negative_indices:\n",
        "            negative_idx = random.choice(negative_indices)\n",
        "            x_k = data[negative_idx]\n",
        "            negative_pairs.append((x_i, x_k))\n",
        "\n",
        "    return positive_pairs, negative_pairs\n"
      ]
    },
    {
      "cell_type": "code",
      "execution_count": null,
      "metadata": {
        "id": "AfRKZtSOUE3c"
      },
      "outputs": [],
      "source": [
        "\"\"\"\n",
        "    Compute the contrastive loss using InfoNCE.\n",
        "\n",
        "    Args:\n",
        "    - positive_pairs: List of positive pairs of samples\n",
        "    - negative_pairs: List of negative pairs of samples\n",
        "    - model: The embedding network\n",
        "    - temperature: A hyperparameter that controls the scaling of the similarities\n",
        "\n",
        "    Returns:\n",
        "    - loss: The contrastive loss\n",
        "\"\"\"\n",
        "import torch.nn.functional as F\n",
        "\n",
        "def contrastive_loss(pos_x_i, pos_x_j, neg_x_i, neg_x_k, model, temperature=0.5, alpha=0.6):\n",
        "    embedded_pos_i = model(pos_x_i)\n",
        "    embedded_pos_j = model(pos_x_j)\n",
        "    embedded_neg_i = model(neg_x_i)\n",
        "    embedded_neg_k = model(neg_x_k)\n",
        "\n",
        "    # Compute cosine similarities with temperature scaling\n",
        "    sim_pos = F.cosine_similarity(embedded_pos_i, embedded_pos_j) / temperature\n",
        "    sim_neg = F.cosine_similarity(embedded_neg_i, embedded_neg_k) / temperature\n",
        "\n",
        "    # Positive pair loss\n",
        "    pos_loss = -torch.log(torch.exp(sim_pos) / (torch.exp(sim_pos) + 1))\n",
        "\n",
        "    # Negative pair loss\n",
        "    neg_loss = -torch.log(1 / (torch.exp(sim_neg) + 1))\n",
        "\n",
        "    # Weighted contrastive loss\n",
        "    loss = alpha * pos_loss.mean() + (1 - alpha) * neg_loss.mean()\n",
        "\n",
        "    return loss\n"
      ]
    },
    {
      "cell_type": "code",
      "execution_count": null,
      "metadata": {
        "colab": {
          "background_save": true,
          "base_uri": "https://localhost:8080/"
        },
        "id": "LFUXStWdZKap",
        "outputId": "7fbd8335-c7be-4828-c5f4-b42ad7415c90"
      },
      "outputs": [
        {
          "name": "stdout",
          "output_type": "stream",
          "text": [
            "Epoch 1/30, Loss: 0.9014606475830078\n",
            "Epoch 2/30, Loss: 0.8409103751182556\n",
            "Epoch 3/30, Loss: 0.7546203136444092\n",
            "Epoch 4/30, Loss: 0.6672807931900024\n",
            "Epoch 5/30, Loss: 0.6145315766334534\n",
            "Epoch 6/30, Loss: 0.5876576900482178\n",
            "Epoch 7/30, Loss: 0.5863531827926636\n",
            "Epoch 8/30, Loss: 0.580628514289856\n",
            "Epoch 9/30, Loss: 0.5766438245773315\n",
            "Epoch 10/30, Loss: 0.574583113193512\n",
            "Epoch 11/30, Loss: 0.5727930068969727\n",
            "Epoch 12/30, Loss: 0.5705503821372986\n",
            "Epoch 13/30, Loss: 0.5693957209587097\n",
            "Epoch 14/30, Loss: 0.5678739547729492\n",
            "Epoch 15/30, Loss: 0.5724506378173828\n",
            "Epoch 16/30, Loss: 0.5708383917808533\n",
            "Epoch 17/30, Loss: 0.56992506980896\n",
            "Epoch 18/30, Loss: 0.5698205232620239\n",
            "Epoch 19/30, Loss: 0.568732738494873\n",
            "Epoch 20/30, Loss: 0.570582926273346\n",
            "Epoch 21/30, Loss: 0.5715108513832092\n",
            "Epoch 22/30, Loss: 0.5694654583930969\n",
            "Epoch 23/30, Loss: 0.5711228847503662\n",
            "Epoch 24/30, Loss: 0.5683185458183289\n",
            "Epoch 25/30, Loss: 0.5695347785949707\n"
          ]
        }
      ],
      "source": [
        "import torch.optim as optim\n",
        "from torch.optim.lr_scheduler import StepLR\n",
        "\n",
        "# Set up the optimizer\n",
        "optimizer = optim.Adam(model.parameters(), lr=0.001)\n",
        "\n",
        "scheduler = StepLR(optimizer, step_size=5, gamma=0.1)\n",
        "\n",
        "def train_models(data, labels, model, epochs=11):\n",
        "    data = torch.tensor(data, dtype=torch.float32)\n",
        "    model.train()\n",
        "\n",
        "    for epoch in range(epochs):\n",
        "        positive_pairs, negative_pairs = create_pairs(data.numpy(), labels)\n",
        "\n",
        "        # Convert pairs to tensors\n",
        "        pos_x_i = torch.tensor(np.array([pair[0] for pair in positive_pairs]), dtype=torch.float32)\n",
        "        pos_x_j = torch.tensor(np.array([pair[1] for pair in positive_pairs]), dtype=torch.float32)\n",
        "        neg_x_i = torch.tensor(np.array([pair[0] for pair in negative_pairs]), dtype=torch.float32)\n",
        "        neg_x_k = torch.tensor(np.array([pair[1] for pair in negative_pairs]), dtype=torch.float32)\n",
        "\n",
        "        # Zero the gradients\n",
        "        optimizer.zero_grad()\n",
        "\n",
        "        # Compute the loss\n",
        "        loss = contrastive_loss(pos_x_i, pos_x_j, neg_x_i, neg_x_k, model)\n",
        "\n",
        "        # Backpropagation\n",
        "        loss.backward()\n",
        "        optimizer.step()\n",
        "\n",
        "        print(f\"Epoch {epoch + 1}/{epochs}, Loss: {loss.item()}\")\n",
        "\n",
        "        scheduler.step()\n",
        "\n",
        "# Run training\n",
        "train_models(X_prepared, y, model, epochs=30)\n"
      ]
    },
    {
      "cell_type": "code",
      "execution_count": null,
      "metadata": {
        "id": "MW11-To_bj5W"
      },
      "outputs": [],
      "source": [
        "data_test  = pd.read_csv('/content/drive/MyDrive/UNSW_NB15_testing-set.csv')"
      ]
    },
    {
      "cell_type": "code",
      "execution_count": null,
      "metadata": {
        "id": "7e0D4JIYaRVV"
      },
      "outputs": [],
      "source": [
        "categorical_features = ['proto','service','state']\n",
        "numerical_features = data_test.drop(columns = [ 'id' , 'proto' , 'service' , 'state', 'attack_cat']).columns"
      ]
    },
    {
      "cell_type": "code",
      "execution_count": null,
      "metadata": {
        "id": "yVClj9uDaUoY"
      },
      "outputs": [],
      "source": [
        "encoder = OneHotEncoder(sparse_output = False , drop = 'first')\n",
        "encoder_categorical = encoder.fit_transform(data[categorical_features])"
      ]
    },
    {
      "cell_type": "code",
      "execution_count": null,
      "metadata": {
        "id": "Ub5s8THbakQ8"
      },
      "outputs": [],
      "source": [
        "scalar = StandardScaler()\n",
        "scaled_numerical = scalar.fit_transform(data[numerical_features])"
      ]
    },
    {
      "cell_type": "code",
      "execution_count": null,
      "metadata": {
        "id": "-2knbDqXLy_4"
      },
      "outputs": [],
      "source": []
    },
    {
      "cell_type": "code",
      "execution_count": null,
      "metadata": {
        "id": "hMH_ZYgnasP3"
      },
      "outputs": [],
      "source": [
        "X_test = np.hstack((encoder_categorical , scaled_numerical))"
      ]
    },
    {
      "cell_type": "code",
      "execution_count": null,
      "metadata": {
        "id": "0Jlr5nniL3Cv"
      },
      "outputs": [],
      "source": [
        "X_test = X_test[:82332]"
      ]
    },
    {
      "cell_type": "code",
      "execution_count": null,
      "metadata": {
        "id": "0LF12tuRa3Hw"
      },
      "outputs": [],
      "source": [
        "y_test = data_test['attack_cat'].values"
      ]
    },
    {
      "cell_type": "code",
      "execution_count": null,
      "metadata": {
        "id": "NaJlXlT7L-Zh"
      },
      "outputs": [],
      "source": [
        "y_test = y_test[:82332]"
      ]
    },
    {
      "cell_type": "code",
      "execution_count": null,
      "metadata": {
        "id": "SXtIKMn6bDZy"
      },
      "outputs": [],
      "source": [
        "from sklearn.metrics import accuracy_score\n",
        "\n",
        "def test_model(test_data, test_labels, model, threshold=0.5):\n",
        "    model.eval()\n",
        "    with torch.no_grad():\n",
        "        # Convert test data to tensor if it's not already a tensor\n",
        "        test_data = torch.tensor(test_data, dtype=torch.float32)\n",
        "\n",
        "        # Generate positive and negative pairs from the test data\n",
        "        test_positive_pairs, test_negative_pairs = create_pairs(test_data.numpy(), test_labels)\n",
        "\n",
        "        # Extract input pairs for positive and negative samples\n",
        "        test_pos_x_i = torch.tensor(np.array([pair[0] for pair in test_positive_pairs]), dtype=torch.float32)\n",
        "        test_pos_x_j = torch.tensor(np.array([pair[1] for pair in test_positive_pairs]), dtype=torch.float32)\n",
        "        test_neg_x_i = torch.tensor(np.array([pair[0] for pair in test_negative_pairs]), dtype=torch.float32)\n",
        "        test_neg_x_k = torch.tensor(np.array([pair[1] for pair in test_negative_pairs]), dtype=torch.float32)\n",
        "\n",
        "        # Calculate test loss using the contrastive loss function\n",
        "        test_loss = contrastive_loss(test_pos_x_i, test_pos_x_j, test_neg_x_i, test_neg_x_k, model)\n",
        "        print(f\"Test Loss: {test_loss.item()}\")\n",
        "\n",
        "        # Compute similarity scores between positive and negative pairs\n",
        "        pos_scores = compute_similarity(test_pos_x_i, test_pos_x_j, model)\n",
        "        neg_scores = compute_similarity(test_neg_x_i, test_neg_x_k, model)\n",
        "\n",
        "        # Predict using a threshold: 1 for positive pairs, 0 for negative pairs\n",
        "        pos_predictions = [1 if score > threshold else 0 for score in pos_scores]\n",
        "        neg_predictions = [0 if score > threshold else 1 for score in neg_scores]\n",
        "\n",
        "        # Combine predictions from both positive and negative pairs\n",
        "        predictions = pos_predictions + neg_predictions\n",
        "\n",
        "        # True labels for validation: 1 for positive, 0 for negative\n",
        "        true_labels = [1] * len(pos_predictions) + [0] * len(neg_predictions)\n",
        "\n",
        "        # Calculate accuracy\n",
        "        accuracy = accuracy_score(true_labels, predictions)\n",
        "        print(f\"Test Accuracy: {accuracy * 100:.2f}%\")\n",
        "\n",
        "        return accuracy, test_loss\n"
      ]
    },
    {
      "cell_type": "code",
      "execution_count": null,
      "metadata": {
        "id": "7vyUqoirbkSH"
      },
      "outputs": [],
      "source": [
        "# # Assuming the model expects inputs with 188 features\n",
        "# if X_test.shape[1] != 188:\n",
        "#     X_test = X_test[:, :188]  # Truncate or reshape to match expected size\n"
      ]
    },
    {
      "cell_type": "code",
      "execution_count": null,
      "metadata": {
        "id": "tm7oGCu0sjCr"
      },
      "outputs": [],
      "source": [
        "X_test_tensor = torch.tensor(X_test, dtype=torch.float32)"
      ]
    },
    {
      "cell_type": "code",
      "execution_count": null,
      "metadata": {
        "id": "8Gb64tYs8S60"
      },
      "outputs": [],
      "source": [
        "import torch.nn.functional as F\n",
        "\n",
        "def compute_similarity(embedding1, embedding2, model):\n",
        "    # Pass inputs through the model to get embeddings\n",
        "    embedding1 = model(embedding1)\n",
        "    embedding2 = model(embedding2)\n",
        "\n",
        "    # Compute cosine similarity between the embeddings\n",
        "    similarity = F.cosine_similarity(embedding1, embedding2)\n",
        "    return similarity\n"
      ]
    },
    {
      "cell_type": "code",
      "execution_count": null,
      "metadata": {
        "colab": {
          "base_uri": "https://localhost:8080/"
        },
        "id": "I4Av6LkDfi9M",
        "outputId": "359c4ba6-e8de-46e2-e728-dd2e9458f37e"
      },
      "outputs": [
        {
          "name": "stdout",
          "output_type": "stream",
          "text": [
            "Data size: 175341\n"
          ]
        }
      ],
      "source": [
        "print(f\"Data size: {len(data_test)}\")"
      ]
    },
    {
      "cell_type": "code",
      "execution_count": null,
      "metadata": {
        "colab": {
          "base_uri": "https://localhost:8080/"
        },
        "id": "5TwABG5qszOm",
        "outputId": "93003908-d4f2-46e8-8825-49152c99b55c"
      },
      "outputs": [
        {
          "name": "stderr",
          "output_type": "stream",
          "text": [
            "<ipython-input-64-623061bc9ce9>:7: UserWarning: To copy construct from a tensor, it is recommended to use sourceTensor.clone().detach() or sourceTensor.clone().detach().requires_grad_(True), rather than torch.tensor(sourceTensor).\n",
            "  test_data = torch.tensor(test_data, dtype=torch.float32)\n"
          ]
        },
        {
          "name": "stdout",
          "output_type": "stream",
          "text": [
            "Test Loss: 0.8558778762817383\n",
            "Test Accuracy: 51.66%\n"
          ]
        },
        {
          "data": {
            "text/plain": [
              "(0.5165609969392216, tensor(0.8559))"
            ]
          },
          "execution_count": 69,
          "metadata": {},
          "output_type": "execute_result"
        }
      ],
      "source": [
        "test_model(X_test_tensor, y_test, model)"
      ]
    },
    {
      "cell_type": "code",
      "execution_count": null,
      "metadata": {
        "id": "UMhMvzufXlCU"
      },
      "outputs": [],
      "source": []
    },
    {
      "cell_type": "markdown",
      "metadata": {
        "id": "cEJU_cEWiySJ"
      },
      "source": [
        "classification test\n"
      ]
    },
    {
      "cell_type": "code",
      "execution_count": null,
      "metadata": {
        "id": "2UwmLCcMiO98"
      },
      "outputs": [],
      "source": [
        "attack_sample = np.random.rand(188).astype(np.float32)  # represents attack behavior\n",
        "normal_sample = np.random.rand(188).astype(np.float32)  # represents normal behavior\n",
        "\n",
        "# Create pairs for testing\n",
        "attack_pair = (attack_sample, attack_sample)  # identical pair for attack classification\n",
        "normal_pair = (attack_sample, normal_sample)  # different pair for normal classification\n",
        "\n",
        "# Convert pairs to PyTorch tensors\n",
        "attack_x_i = torch.tensor([attack_pair[0]], dtype=torch.float32)\n",
        "attack_x_j = torch.tensor([attack_pair[1]], dtype=torch.float32)\n",
        "normal_x_i = torch.tensor([normal_pair[0]], dtype=torch.float32)\n",
        "normal_x_j = torch.tensor([normal_pair[1]], dtype=torch.float32)"
      ]
    },
    {
      "cell_type": "code",
      "execution_count": null,
      "metadata": {
        "id": "KhvA1mNaiSi2"
      },
      "outputs": [],
      "source": [
        "def compute_similarity(embedding1, embedding2, model):\n",
        "    embedding1 = model(embedding1)\n",
        "    embedding2 = model(embedding2)\n",
        "    similarity = torch.nn.functional.cosine_similarity(embedding1, embedding2)\n",
        "    return similarity"
      ]
    },
    {
      "cell_type": "code",
      "execution_count": null,
      "metadata": {
        "id": "tG1dYJ-HVYm5"
      },
      "outputs": [],
      "source": [
        "attack_mapping = {\n",
        "    0: \"Normal Traffic\",\n",
        "    1: \"Analysis\",\n",
        "    2: \"Backdoor\",\n",
        "    3: \"DoS\",\n",
        "    4: \"Exploits\",\n",
        "    5: \"Fuzzers\",\n",
        "    6: \"Generic\",\n",
        "    7: \"Reconnaissance\",\n",
        "    8: \"Shellcode\",\n",
        "    9: \"Worms\",\n",
        "}"
      ]
    },
    {
      "cell_type": "code",
      "execution_count": null,
      "metadata": {
        "id": "txK6NGS5iYMd"
      },
      "outputs": [],
      "source": [
        "import numpy as np\n",
        "import torch\n",
        "\n",
        "def map_attack_to_name(attack_type):\n",
        "    # Mapping based on UNSW-NB15 attack categories\n",
        "    attack_mapping = {\n",
        "        0: \"Normal Traffic\",\n",
        "        1: \"Analysis\",\n",
        "        2: \"Backdoor\",\n",
        "        3: \"DoS\",\n",
        "        4: \"Exploits\",\n",
        "        5: \"Fuzzers\",\n",
        "        6: \"Generic\",\n",
        "        7: \"Reconnaissance\",\n",
        "        8: \"Shellcode\",\n",
        "        9: \"Worms\",\n",
        "    }\n",
        "    return attack_mapping.get(attack_type, \"Unknown Attack\")\n",
        "\n",
        "def compute_similarity(x_i, x_j, model):\n",
        "    # Assuming model returns an embedding for the input\n",
        "    embedding_i = model(x_i)\n",
        "    embedding_j = model(x_j)\n",
        "    # Compute cosine similarity\n",
        "    similarity = torch.nn.functional.cosine_similarity(embedding_i, embedding_j)\n",
        "    return similarity\n",
        "\n",
        "def test_single_classification(model, attack_x_i, attack_x_j, normal_x_i, normal_x_j, threshold=0.5):\n",
        "    model.eval()\n",
        "    with torch.no_grad():\n",
        "        # Calculate similarity scores for attack and normal pairs\n",
        "        attack_score = compute_similarity(attack_x_i, attack_x_j, model)\n",
        "        normal_score = compute_similarity(normal_x_i, normal_x_j, model)\n",
        "\n",
        "        # Classification based on threshold\n",
        "        attack_classification = \"Attack\" if attack_score.item() > threshold else \"Normal\"\n",
        "        normal_classification = \"Attack\" if normal_score.item() > threshold else \"Normal\"\n",
        "\n",
        "        # Map the attack type to its name\n",
        "        attack_type = np.random.randint(10)  # Replace with actual attack type from your labels\n",
        "        attack_name = map_attack_to_name(attack_type)\n",
        "\n",
        "        # Print results\n",
        "        print(f\"Attack Pair Similarity Score: {attack_score.item():.2f}, Classified as: {attack_classification}, Attack Name: {attack_name}\")\n",
        "        print(f\"Normal Pair Similarity Score: {normal_score.item():.2f}, Classified as: {normal_classification}\")\n"
      ]
    },
    {
      "cell_type": "code",
      "execution_count": null,
      "metadata": {
        "colab": {
          "base_uri": "https://localhost:8080/"
        },
        "id": "HtwtUOWzibHR",
        "outputId": "93bfb42f-0f84-4c55-f326-3389eaf724b4"
      },
      "outputs": [
        {
          "name": "stdout",
          "output_type": "stream",
          "text": [
            "Attack Pair Similarity Score: 1.00, Classified as: Attack, Attack Name: Generic\n",
            "Normal Pair Similarity Score: 0.96, Classified as: Attack\n"
          ]
        }
      ],
      "source": [
        "test_single_classification(model,attack_x_i, attack_x_j, normal_x_i, normal_x_j, threshold=0.5)"
      ]
    },
    {
      "cell_type": "code",
      "execution_count": null,
      "metadata": {
        "id": "YSe7iT317HqK"
      },
      "outputs": [],
      "source": []
    },
    {
      "cell_type": "code",
      "execution_count": null,
      "metadata": {
        "id": "YT23mXJsikpk"
      },
      "outputs": [],
      "source": []
    },
    {
      "cell_type": "markdown",
      "metadata": {
        "id": "VXB0yZPWi1zl"
      },
      "source": [
        "**Supervised**"
      ]
    },
    {
      "cell_type": "code",
      "execution_count": null,
      "metadata": {
        "id": "5m-ndalfjZTp"
      },
      "outputs": [],
      "source": [
        "import pandas as pd\n",
        "import numpy as np\n",
        "import seaborn as sns\n",
        "import matplotlib.pyplot as plt\n",
        "from sklearn.preprocessing import LabelEncoder, StandardScaler, MinMaxScaler\n",
        "from scipy import stats\n",
        "from sklearn.model_selection import train_test_split\n",
        "from sklearn.pipeline import Pipeline\n",
        "from sklearn.ensemble import RandomForestClassifier\n",
        "from sklearn.metrics import classification_report, confusion_matrix"
      ]
    },
    {
      "cell_type": "code",
      "execution_count": null,
      "metadata": {
        "id": "oS2kGFwepzuS"
      },
      "outputs": [],
      "source": [
        "data_super = pd.read_csv('/content/drive/MyDrive/UNSW_NB15_training-set.csv')"
      ]
    },
    {
      "cell_type": "code",
      "execution_count": null,
      "metadata": {
        "id": "7mVAuilTqCWg"
      },
      "outputs": [],
      "source": [
        "categorical_features = ['proto','service','state']\n",
        "numerical_features = data_super.drop(columns = [ 'id' , 'proto' , 'service' , 'state', 'attack_cat']).columns"
      ]
    },
    {
      "cell_type": "code",
      "execution_count": null,
      "metadata": {
        "id": "ZluYnVhwst4s"
      },
      "outputs": [],
      "source": [
        "X_prepared = np.hstack((encoder_categorical , scaled_numerical))"
      ]
    },
    {
      "cell_type": "code",
      "execution_count": null,
      "metadata": {
        "id": "TRP-nH__szr7"
      },
      "outputs": [],
      "source": [
        "y = data_super['attack_cat'].values"
      ]
    },
    {
      "cell_type": "code",
      "execution_count": null,
      "metadata": {
        "id": "3VBiwwm_tZJ3"
      },
      "outputs": [],
      "source": [
        "data_encoded = pd.get_dummies(data_super, columns=categorical_features, drop_first=True)"
      ]
    },
    {
      "cell_type": "code",
      "execution_count": null,
      "metadata": {
        "id": "F5bz5mztqYxR"
      },
      "outputs": [],
      "source": [
        "le = LabelEncoder()\n",
        "data_encoded['label'] = le.fit_transform(data_encoded['label'])\n",
        "if 'attack_cat' in data_encoded.columns:\n",
        "    data_encoded['attack_cat'] = le.fit_transform(data_encoded['attack_cat'])"
      ]
    },
    {
      "cell_type": "code",
      "execution_count": null,
      "metadata": {
        "colab": {
          "base_uri": "https://localhost:8080/",
          "height": 804
        },
        "id": "IP68uUTpqa8f",
        "outputId": "077cc3ea-afc6-4a5d-c858-9f53dc34cba3"
      },
      "outputs": [
        {
          "data": {
            "image/png": "[encoded data removed]",
            "text/plain": [
              "<Figure size 1200x800 with 2 Axes>"
            ]
          },
          "metadata": {},
          "output_type": "display_data"
        }
      ],
      "source": [
        "corr = data_encoded.corr()\n",
        "plt.figure(figsize=(12, 8))\n",
        "sns.heatmap(corr, annot=False, cmap='coolwarm', center=0)\n",
        "plt.title(\"Correlation Heatmap\")\n",
        "plt.show()"
      ]
    },
    {
      "cell_type": "code",
      "execution_count": null,
      "metadata": {
        "colab": {
          "base_uri": "https://localhost:8080/"
        },
        "id": "PAp8Ac3Sqch8",
        "outputId": "b65dfa5f-284c-4221-9588-eb680df53025"
      },
      "outputs": [
        {
          "name": "stdout",
          "output_type": "stream",
          "text": [
            "\n",
            "Top 10 correlated features with label:\n",
            " label               1.000000\n",
            "state_INT           0.538576\n",
            "sttl                0.504159\n",
            "ct_dst_sport_ltm    0.393668\n",
            "service_dns         0.363961\n",
            "ct_src_dport_ltm    0.341513\n",
            "rate                0.328629\n",
            "ct_state_ttl        0.318517\n",
            "ct_srv_dst          0.292931\n",
            "ct_srv_src          0.290195\n",
            "Name: label, dtype: float64\n"
          ]
        }
      ],
      "source": [
        "correlation_with_label = corr['label'].sort_values(ascending=False)\n",
        "print(\"\\nTop 10 correlated features with label:\\n\", correlation_with_label.head(10))"
      ]
    },
    {
      "cell_type": "code",
      "execution_count": null,
      "metadata": {
        "id": "oUmNY9CBqiE1"
      },
      "outputs": [],
      "source": [
        "top_features = correlation_with_label.index[:10]  # Top features for anomaly detection\n",
        "numeric_features = data_encoded[top_features].select_dtypes(include=[np.number])"
      ]
    },
    {
      "cell_type": "code",
      "execution_count": null,
      "metadata": {
        "colab": {
          "base_uri": "https://localhost:8080/"
        },
        "id": "VNgNsedUqkkU",
        "outputId": "e62a1893-667c-49d4-9dfc-a6cc74d9e567"
      },
      "outputs": [
        {
          "name": "stdout",
          "output_type": "stream",
          "text": [
            "\n",
            "Number of anomalies detected: 7808\n"
          ]
        }
      ],
      "source": [
        "z_scores = np.abs(stats.zscore(numeric_features))\n",
        "threshold = 3\n",
        "anomalies = (z_scores > threshold).any(axis=1)\n",
        "data_encoded['anomaly'] = anomalies\n",
        "print(\"\\nNumber of anomalies detected:\", data_encoded['anomaly'].sum())"
      ]
    },
    {
      "cell_type": "code",
      "execution_count": null,
      "metadata": {
        "colab": {
          "base_uri": "https://localhost:8080/",
          "height": 564
        },
        "id": "VQaN61MOqmm4",
        "outputId": "a34dd5c4-4cab-472f-dad1-40378ec71aeb"
      },
      "outputs": [
        {
          "data": {
            "image/png": "[encoded data removed]",
            "text/plain": [
              "<Figure size 1000x600 with 1 Axes>"
            ]
          },
          "metadata": {},
          "output_type": "display_data"
        }
      ],
      "source": [
        "plt.figure(figsize=(10, 6))\n",
        "sns.boxplot(x=data_encoded['sttl'], y=data_encoded['label'], hue=data_encoded['anomaly'])\n",
        "plt.title(\"Boxplot of STTL Feature with Anomalies\")\n",
        "plt.show()"
      ]
    },
    {
      "cell_type": "code",
      "execution_count": null,
      "metadata": {
        "colab": {
          "base_uri": "https://localhost:8080/",
          "height": 80
        },
        "id": "HCJUqTeprO-d",
        "outputId": "31a0306e-fe9b-477a-9567-7f34596c4901"
      },
      "outputs": [
        {
          "data": {
            "text/html": [
              "<style>#sk-container-id-1 {\n",
              "  /* Definition of color scheme common for light and dark mode */\n",
              "  --sklearn-color-text: black;\n",
              "  --sklearn-color-line: gray;\n",
              "  /* Definition of color scheme for unfitted estimators */\n",
              "  --sklearn-color-unfitted-level-0: #fff5e6;\n",
              "  --sklearn-color-unfitted-level-1: #f6e4d2;\n",
              "  --sklearn-color-unfitted-level-2: #ffe0b3;\n",
              "  --sklearn-color-unfitted-level-3: chocolate;\n",
              "  /* Definition of color scheme for fitted estimators */\n",
              "  --sklearn-color-fitted-level-0: #f0f8ff;\n",
              "  --sklearn-color-fitted-level-1: #d4ebff;\n",
              "  --sklearn-color-fitted-level-2: #b3dbfd;\n",
              "  --sklearn-color-fitted-level-3: cornflowerblue;\n",
              "\n",
              "  /* Specific color for light theme */\n",
              "  --sklearn-color-text-on-default-background: var(--sg-text-color, var(--theme-code-foreground, var(--jp-content-font-color1, black)));\n",
              "  --sklearn-color-background: var(--sg-background-color, var(--theme-background, var(--jp-layout-color0, white)));\n",
              "  --sklearn-color-border-box: var(--sg-text-color, var(--theme-code-foreground, var(--jp-content-font-color1, black)));\n",
              "  --sklearn-color-icon: #696969;\n",
              "\n",
              "  @media (prefers-color-scheme: dark) {\n",
              "    /* Redefinition of color scheme for dark theme */\n",
              "    --sklearn-color-text-on-default-background: var(--sg-text-color, var(--theme-code-foreground, var(--jp-content-font-color1, white)));\n",
              "    --sklearn-color-background: var(--sg-background-color, var(--theme-background, var(--jp-layout-color0, #111)));\n",
              "    --sklearn-color-border-box: var(--sg-text-color, var(--theme-code-foreground, var(--jp-content-font-color1, white)));\n",
              "    --sklearn-color-icon: #878787;\n",
              "  }\n",
              "}\n",
              "\n",
              "#sk-container-id-1 {\n",
              "  color: var(--sklearn-color-text);\n",
              "}\n",
              "\n",
              "#sk-container-id-1 pre {\n",
              "  padding: 0;\n",
              "}\n",
              "\n",
              "#sk-container-id-1 input.sk-hidden--visually {\n",
              "  border: 0;\n",
              "  clip: rect(1px 1px 1px 1px);\n",
              "  clip: rect(1px, 1px, 1px, 1px);\n",
              "  height: 1px;\n",
              "  margin: -1px;\n",
              "  overflow: hidden;\n",
              "  padding: 0;\n",
              "  position: absolute;\n",
              "  width: 1px;\n",
              "}\n",
              "\n",
              "#sk-container-id-1 div.sk-dashed-wrapped {\n",
              "  border: 1px dashed var(--sklearn-color-line);\n",
              "  margin: 0 0.4em 0.5em 0.4em;\n",
              "  box-sizing: border-box;\n",
              "  padding-bottom: 0.4em;\n",
              "  background-color: var(--sklearn-color-background);\n",
              "}\n",
              "\n",
              "#sk-container-id-1 div.sk-container {\n",
              "  /* jupyter's `normalize.less` sets `[hidden] { display: none; }`\n",
              "     but bootstrap.min.css set `[hidden] { display: none !important; }`\n",
              "     so we also need the `!important` here to be able to override the\n",
              "     default hidden behavior on the sphinx rendered scikit-learn.org.\n",
              "     See: https://github.com/scikit-learn/scikit-learn/issues/21755 */\n",
              "  display: inline-block !important;\n",
              "  position: relative;\n",
              "}\n",
              "\n",
              "#sk-container-id-1 div.sk-text-repr-fallback {\n",
              "  display: none;\n",
              "}\n",
              "\n",
              "div.sk-parallel-item,\n",
              "div.sk-serial,\n",
              "div.sk-item {\n",
              "  /* draw centered vertical line to link estimators */\n",
              "  background-image: linear-gradient(var(--sklearn-color-text-on-default-background), var(--sklearn-color-text-on-default-background));\n",
              "  background-size: 2px 100%;\n",
              "  background-repeat: no-repeat;\n",
              "  background-position: center center;\n",
              "}\n",
              "\n",
              "/* Parallel-specific style estimator block */\n",
              "\n",
              "#sk-container-id-1 div.sk-parallel-item::after {\n",
              "  content: \"\";\n",
              "  width: 100%;\n",
              "  border-bottom: 2px solid var(--sklearn-color-text-on-default-background);\n",
              "  flex-grow: 1;\n",
              "}\n",
              "\n",
              "#sk-container-id-1 div.sk-parallel {\n",
              "  display: flex;\n",
              "  align-items: stretch;\n",
              "  justify-content: center;\n",
              "  background-color: var(--sklearn-color-background);\n",
              "  position: relative;\n",
              "}\n",
              "\n",
              "#sk-container-id-1 div.sk-parallel-item {\n",
              "  display: flex;\n",
              "  flex-direction: column;\n",
              "}\n",
              "\n",
              "#sk-container-id-1 div.sk-parallel-item:first-child::after {\n",
              "  align-self: flex-end;\n",
              "  width: 50%;\n",
              "}\n",
              "\n",
              "#sk-container-id-1 div.sk-parallel-item:last-child::after {\n",
              "  align-self: flex-start;\n",
              "  width: 50%;\n",
              "}\n",
              "\n",
              "#sk-container-id-1 div.sk-parallel-item:only-child::after {\n",
              "  width: 0;\n",
              "}\n",
              "\n",
              "/* Serial-specific style estimator block */\n",
              "\n",
              "#sk-container-id-1 div.sk-serial {\n",
              "  display: flex;\n",
              "  flex-direction: column;\n",
              "  align-items: center;\n",
              "  background-color: var(--sklearn-color-background);\n",
              "  padding-right: 1em;\n",
              "  padding-left: 1em;\n",
              "}\n",
              "\n",
              "\n",
              "/* Toggleable style: style used for estimator/Pipeline/ColumnTransformer box that is\n",
              "clickable and can be expanded/collapsed.\n",
              "- Pipeline and ColumnTransformer use this feature and define the default style\n",
              "- Estimators will overwrite some part of the style using the `sk-estimator` class\n",
              "*/\n",
              "\n",
              "/* Pipeline and ColumnTransformer style (default) */\n",
              "\n",
              "#sk-container-id-1 div.sk-toggleable {\n",
              "  /* Default theme specific background. It is overwritten whether we have a\n",
              "  specific estimator or a Pipeline/ColumnTransformer */\n",
              "  background-color: var(--sklearn-color-background);\n",
              "}\n",
              "\n",
              "/* Toggleable label */\n",
              "#sk-container-id-1 label.sk-toggleable__label {\n",
              "  cursor: pointer;\n",
              "  display: block;\n",
              "  width: 100%;\n",
              "  margin-bottom: 0;\n",
              "  padding: 0.5em;\n",
              "  box-sizing: border-box;\n",
              "  text-align: center;\n",
              "}\n",
              "\n",
              "#sk-container-id-1 label.sk-toggleable__label-arrow:before {\n",
              "  /* Arrow on the left of the label */\n",
              "  content: \"▸\";\n",
              "  float: left;\n",
              "  margin-right: 0.25em;\n",
              "  color: var(--sklearn-color-icon);\n",
              "}\n",
              "\n",
              "#sk-container-id-1 label.sk-toggleable__label-arrow:hover:before {\n",
              "  color: var(--sklearn-color-text);\n",
              "}\n",
              "\n",
              "/* Toggleable content - dropdown */\n",
              "\n",
              "#sk-container-id-1 div.sk-toggleable__content {\n",
              "  max-height: 0;\n",
              "  max-width: 0;\n",
              "  overflow: hidden;\n",
              "  text-align: left;\n",
              "  /* unfitted */\n",
              "  background-color: var(--sklearn-color-unfitted-level-0);\n",
              "}\n",
              "\n",
              "#sk-container-id-1 div.sk-toggleable__content.fitted {\n",
              "  /* fitted */\n",
              "  background-color: var(--sklearn-color-fitted-level-0);\n",
              "}\n",
              "\n",
              "#sk-container-id-1 div.sk-toggleable__content pre {\n",
              "  margin: 0.2em;\n",
              "  border-radius: 0.25em;\n",
              "  color: var(--sklearn-color-text);\n",
              "  /* unfitted */\n",
              "  background-color: var(--sklearn-color-unfitted-level-0);\n",
              "}\n",
              "\n",
              "#sk-container-id-1 div.sk-toggleable__content.fitted pre {\n",
              "  /* unfitted */\n",
              "  background-color: var(--sklearn-color-fitted-level-0);\n",
              "}\n",
              "\n",
              "#sk-container-id-1 input.sk-toggleable__control:checked~div.sk-toggleable__content {\n",
              "  /* Expand drop-down */\n",
              "  max-height: 200px;\n",
              "  max-width: 100%;\n",
              "  overflow: auto;\n",
              "}\n",
              "\n",
              "#sk-container-id-1 input.sk-toggleable__control:checked~label.sk-toggleable__label-arrow:before {\n",
              "  content: \"▾\";\n",
              "}\n",
              "\n",
              "/* Pipeline/ColumnTransformer-specific style */\n",
              "\n",
              "#sk-container-id-1 div.sk-label input.sk-toggleable__control:checked~label.sk-toggleable__label {\n",
              "  color: var(--sklearn-color-text);\n",
              "  background-color: var(--sklearn-color-unfitted-level-2);\n",
              "}\n",
              "\n",
              "#sk-container-id-1 div.sk-label.fitted input.sk-toggleable__control:checked~label.sk-toggleable__label {\n",
              "  background-color: var(--sklearn-color-fitted-level-2);\n",
              "}\n",
              "\n",
              "/* Estimator-specific style */\n",
              "\n",
              "/* Colorize estimator box */\n",
              "#sk-container-id-1 div.sk-estimator input.sk-toggleable__control:checked~label.sk-toggleable__label {\n",
              "  /* unfitted */\n",
              "  background-color: var(--sklearn-color-unfitted-level-2);\n",
              "}\n",
              "\n",
              "#sk-container-id-1 div.sk-estimator.fitted input.sk-toggleable__control:checked~label.sk-toggleable__label {\n",
              "  /* fitted */\n",
              "  background-color: var(--sklearn-color-fitted-level-2);\n",
              "}\n",
              "\n",
              "#sk-container-id-1 div.sk-label label.sk-toggleable__label,\n",
              "#sk-container-id-1 div.sk-label label {\n",
              "  /* The background is the default theme color */\n",
              "  color: var(--sklearn-color-text-on-default-background);\n",
              "}\n",
              "\n",
              "/* On hover, darken the color of the background */\n",
              "#sk-container-id-1 div.sk-label:hover label.sk-toggleable__label {\n",
              "  color: var(--sklearn-color-text);\n",
              "  background-color: var(--sklearn-color-unfitted-level-2);\n",
              "}\n",
              "\n",
              "/* Label box, darken color on hover, fitted */\n",
              "#sk-container-id-1 div.sk-label.fitted:hover label.sk-toggleable__label.fitted {\n",
              "  color: var(--sklearn-color-text);\n",
              "  background-color: var(--sklearn-color-fitted-level-2);\n",
              "}\n",
              "\n",
              "/* Estimator label */\n",
              "\n",
              "#sk-container-id-1 div.sk-label label {\n",
              "  font-family: monospace;\n",
              "  font-weight: bold;\n",
              "  display: inline-block;\n",
              "  line-height: 1.2em;\n",
              "}\n",
              "\n",
              "#sk-container-id-1 div.sk-label-container {\n",
              "  text-align: center;\n",
              "}\n",
              "\n",
              "/* Estimator-specific */\n",
              "#sk-container-id-1 div.sk-estimator {\n",
              "  font-family: monospace;\n",
              "  border: 1px dotted var(--sklearn-color-border-box);\n",
              "  border-radius: 0.25em;\n",
              "  box-sizing: border-box;\n",
              "  margin-bottom: 0.5em;\n",
              "  /* unfitted */\n",
              "  background-color: var(--sklearn-color-unfitted-level-0);\n",
              "}\n",
              "\n",
              "#sk-container-id-1 div.sk-estimator.fitted {\n",
              "  /* fitted */\n",
              "  background-color: var(--sklearn-color-fitted-level-0);\n",
              "}\n",
              "\n",
              "/* on hover */\n",
              "#sk-container-id-1 div.sk-estimator:hover {\n",
              "  /* unfitted */\n",
              "  background-color: var(--sklearn-color-unfitted-level-2);\n",
              "}\n",
              "\n",
              "#sk-container-id-1 div.sk-estimator.fitted:hover {\n",
              "  /* fitted */\n",
              "  background-color: var(--sklearn-color-fitted-level-2);\n",
              "}\n",
              "\n",
              "/* Specification for estimator info (e.g. \"i\" and \"?\") */\n",
              "\n",
              "/* Common style for \"i\" and \"?\" */\n",
              "\n",
              ".sk-estimator-doc-link,\n",
              "a:link.sk-estimator-doc-link,\n",
              "a:visited.sk-estimator-doc-link {\n",
              "  float: right;\n",
              "  font-size: smaller;\n",
              "  line-height: 1em;\n",
              "  font-family: monospace;\n",
              "  background-color: var(--sklearn-color-background);\n",
              "  border-radius: 1em;\n",
              "  height: 1em;\n",
              "  width: 1em;\n",
              "  text-decoration: none !important;\n",
              "  margin-left: 1ex;\n",
              "  /* unfitted */\n",
              "  border: var(--sklearn-color-unfitted-level-1) 1pt solid;\n",
              "  color: var(--sklearn-color-unfitted-level-1);\n",
              "}\n",
              "\n",
              ".sk-estimator-doc-link.fitted,\n",
              "a:link.sk-estimator-doc-link.fitted,\n",
              "a:visited.sk-estimator-doc-link.fitted {\n",
              "  /* fitted */\n",
              "  border: var(--sklearn-color-fitted-level-1) 1pt solid;\n",
              "  color: var(--sklearn-color-fitted-level-1);\n",
              "}\n",
              "\n",
              "/* On hover */\n",
              "div.sk-estimator:hover .sk-estimator-doc-link:hover,\n",
              ".sk-estimator-doc-link:hover,\n",
              "div.sk-label-container:hover .sk-estimator-doc-link:hover,\n",
              ".sk-estimator-doc-link:hover {\n",
              "  /* unfitted */\n",
              "  background-color: var(--sklearn-color-unfitted-level-3);\n",
              "  color: var(--sklearn-color-background);\n",
              "  text-decoration: none;\n",
              "}\n",
              "\n",
              "div.sk-estimator.fitted:hover .sk-estimator-doc-link.fitted:hover,\n",
              ".sk-estimator-doc-link.fitted:hover,\n",
              "div.sk-label-container:hover .sk-estimator-doc-link.fitted:hover,\n",
              ".sk-estimator-doc-link.fitted:hover {\n",
              "  /* fitted */\n",
              "  background-color: var(--sklearn-color-fitted-level-3);\n",
              "  color: var(--sklearn-color-background);\n",
              "  text-decoration: none;\n",
              "}\n",
              "\n",
              "/* Span, style for the box shown on hovering the info icon */\n",
              ".sk-estimator-doc-link span {\n",
              "  display: none;\n",
              "  z-index: 9999;\n",
              "  position: relative;\n",
              "  font-weight: normal;\n",
              "  right: .2ex;\n",
              "  padding: .5ex;\n",
              "  margin: .5ex;\n",
              "  width: min-content;\n",
              "  min-width: 20ex;\n",
              "  max-width: 50ex;\n",
              "  color: var(--sklearn-color-text);\n",
              "  box-shadow: 2pt 2pt 4pt #999;\n",
              "  /* unfitted */\n",
              "  background: var(--sklearn-color-unfitted-level-0);\n",
              "  border: .5pt solid var(--sklearn-color-unfitted-level-3);\n",
              "}\n",
              "\n",
              ".sk-estimator-doc-link.fitted span {\n",
              "  /* fitted */\n",
              "  background: var(--sklearn-color-fitted-level-0);\n",
              "  border: var(--sklearn-color-fitted-level-3);\n",
              "}\n",
              "\n",
              ".sk-estimator-doc-link:hover span {\n",
              "  display: block;\n",
              "}\n",
              "\n",
              "/* \"?\"-specific style due to the `<a>` HTML tag */\n",
              "\n",
              "#sk-container-id-1 a.estimator_doc_link {\n",
              "  float: right;\n",
              "  font-size: 1rem;\n",
              "  line-height: 1em;\n",
              "  font-family: monospace;\n",
              "  background-color: var(--sklearn-color-background);\n",
              "  border-radius: 1rem;\n",
              "  height: 1rem;\n",
              "  width: 1rem;\n",
              "  text-decoration: none;\n",
              "  /* unfitted */\n",
              "  color: var(--sklearn-color-unfitted-level-1);\n",
              "  border: var(--sklearn-color-unfitted-level-1) 1pt solid;\n",
              "}\n",
              "\n",
              "#sk-container-id-1 a.estimator_doc_link.fitted {\n",
              "  /* fitted */\n",
              "  border: var(--sklearn-color-fitted-level-1) 1pt solid;\n",
              "  color: var(--sklearn-color-fitted-level-1);\n",
              "}\n",
              "\n",
              "/* On hover */\n",
              "#sk-container-id-1 a.estimator_doc_link:hover {\n",
              "  /* unfitted */\n",
              "  background-color: var(--sklearn-color-unfitted-level-3);\n",
              "  color: var(--sklearn-color-background);\n",
              "  text-decoration: none;\n",
              "}\n",
              "\n",
              "#sk-container-id-1 a.estimator_doc_link.fitted:hover {\n",
              "  /* fitted */\n",
              "  background-color: var(--sklearn-color-fitted-level-3);\n",
              "}\n",
              "</style><div id=\"sk-container-id-1\" class=\"sk-top-container\"><div class=\"sk-text-repr-fallback\"><pre>RandomForestClassifier(random_state=42)</pre><b>In a Jupyter environment, please rerun this cell to show the HTML representation or trust the notebook. <br />On GitHub, the HTML representation is unable to render, please try loading this page with nbviewer.org.</b></div><div class=\"sk-container\" hidden><div class=\"sk-item\"><div class=\"sk-estimator fitted sk-toggleable\"><input class=\"sk-toggleable__control sk-hidden--visually\" id=\"sk-estimator-id-1\" type=\"checkbox\" checked><label for=\"sk-estimator-id-1\" class=\"sk-toggleable__label fitted sk-toggleable__label-arrow fitted\">&nbsp;&nbsp;RandomForestClassifier<a class=\"sk-estimator-doc-link fitted\" rel=\"noreferrer\" target=\"_blank\" href=\"https://scikit-learn.org/1.5/modules/generated/sklearn.ensemble.RandomForestClassifier.html\">?<span>Documentation for RandomForestClassifier</span></a><span class=\"sk-estimator-doc-link fitted\">i<span>Fitted</span></span></label><div class=\"sk-toggleable__content fitted\"><pre>RandomForestClassifier(random_state=42)</pre></div> </div></div></div></div>"
            ],
            "text/plain": [
              "RandomForestClassifier(random_state=42)"
            ]
          },
          "execution_count": 119,
          "metadata": {},
          "output_type": "execute_result"
        }
      ],
      "source": [
        "rf_model = RandomForestClassifier(n_estimators=100, random_state=42)\n",
        "rf_model.fit(X_prepared, y)"
      ]
    },
    {
      "cell_type": "code",
      "execution_count": null,
      "metadata": {
        "id": "qohCd6QduQWe"
      },
      "outputs": [],
      "source": [
        "data_test_super = pd.read_csv('/content/drive/MyDrive/UNSW_NB15_testing-set.csv')\n",
        "categorical_features = ['proto', 'service', 'state']\n",
        "numerical_features= data_test.drop(columns = [ 'id', 'proto' , 'service' , 'state', 'attack_cat']).columns\n",
        "encoder = OneHotEncoder (sparse_output = False, drop = 'first')\n",
        "encoder_categorical = encoder.fit_transform(data[categorical_features])\n",
        "\n",
        "scalar = StandardScaler ()\n",
        "scaled_numerical = scalar.fit_transform(data[numerical_features])\n",
        "X_test_super = np.hstack((encoder_categorical, scaled_numerical))\n",
        "y_test_super = data_test ['attack_cat'].values"
      ]
    },
    {
      "cell_type": "code",
      "execution_count": null,
      "metadata": {
        "id": "2ZCon33RuX1p"
      },
      "outputs": [],
      "source": [
        "y_pred = rf_model.predict(X_test_super)\n"
      ]
    },
    {
      "cell_type": "code",
      "execution_count": null,
      "metadata": {
        "colab": {
          "base_uri": "https://localhost:8080/"
        },
        "id": "vQj8Z5RDwQZb",
        "outputId": "be786af3-7d59-4b24-a3ef-ca7213aaa6e3"
      },
      "outputs": [
        {
          "name": "stdout",
          "output_type": "stream",
          "text": [
            "Shape of X_test: (82332, 188)\n",
            "Shape of y_test_super: (175341,)\n",
            "Shape of y_pred: (82332,)\n"
          ]
        }
      ],
      "source": [
        "print(f\"Shape of X_test: {X_test.shape}\")\n",
        "print(f\"Shape of y_test_super: {y_test_super.shape}\")\n",
        "print(f\"Shape of y_pred: {y_pred.shape}\")\n"
      ]
    },
    {
      "cell_type": "code",
      "execution_count": null,
      "metadata": {
        "id": "BUIzL8UsyONp"
      },
      "outputs": [],
      "source": [
        "y_test_super = y[:82332]"
      ]
    },
    {
      "cell_type": "code",
      "execution_count": null,
      "metadata": {
        "colab": {
          "base_uri": "https://localhost:8080/"
        },
        "id": "nNgjn35Hvdax",
        "outputId": "ed34dd91-dec8-4384-f43a-5efc2822107f"
      },
      "outputs": [
        {
          "name": "stdout",
          "output_type": "stream",
          "text": [
            "Accuracy: 0.9360880338143128\n",
            "Classification Report:\n",
            "                precision    recall  f1-score   support\n",
            "\n",
            "      Analysis       1.00      0.09      0.16       677\n",
            "      Backdoor       1.00      0.10      0.18       583\n",
            "           DoS       0.57      0.83      0.68      4089\n",
            "      Exploits       0.85      0.80      0.82     11132\n",
            "       Fuzzers       0.83      0.87      0.85      6062\n",
            "       Generic       1.00      1.00      1.00     18871\n",
            "        Normal       1.00      1.00      1.00     37000\n",
            "Reconnaissance       0.99      0.91      0.95      3496\n",
            "     Shellcode       1.00      1.00      1.00       378\n",
            "         Worms       0.98      1.00      0.99        44\n",
            "\n",
            "      accuracy                           0.94     82332\n",
            "     macro avg       0.92      0.76      0.76     82332\n",
            "  weighted avg       0.95      0.94      0.93     82332\n",
            "\n",
            "Confusion Matrix:\n",
            "[[   58     0   149   257   213     0     0     0     0     0]\n",
            " [    0    57    42   267   213     0     0     4     0     0]\n",
            " [    0     0  3402   466   217     0     0     3     0     1]\n",
            " [    0     0  1815  8879   426     0     0    12     0     0]\n",
            " [    0     0   272   539  5245     0     0     6     0     0]\n",
            " [    0     0    20    10     0 18840     0     0     1     0]\n",
            " [    0     0     0     0     0     0 37000     0     0     0]\n",
            " [    0     0   259    70     0     0     0  3167     0     0]\n",
            " [    0     0     0     0     0     0     0     0   378     0]\n",
            " [    0     0     0     0     0     0     0     0     0    44]]\n"
          ]
        }
      ],
      "source": [
        "print(f\"Accuracy: {accuracy_score(y_test_super, y_pred)}\")\n",
        "print(f\"Classification Report:\\n{classification_report(y_test_super, y_pred)}\")\n",
        "print(f\"Confusion Matrix:\\n{confusion_matrix(y_test_super, y_pred)}\")\n"
      ]
    },
    {
      "cell_type": "code",
      "execution_count": null,
      "metadata": {
        "colab": {
          "base_uri": "https://localhost:8080/"
        },
        "id": "sf_GhAjsvgsk",
        "outputId": "99f41bee-8f48-437f-e791-2384260480f5"
      },
      "outputs": [
        {
          "name": "stdout",
          "output_type": "stream",
          "text": [
            "Feature Importances: [1.60247913e-05 1.89320998e-05 7.61332546e-05 3.36343418e-05\n",
            " 2.24897654e-05 1.32976934e-03 1.76440181e-05 3.98724441e-05\n",
            " 1.56603978e-05 1.56612052e-05 1.45756993e-05 1.64164486e-05\n",
            " 2.25644901e-05 1.64330830e-05 1.64047977e-05 1.55523872e-05\n",
            " 1.94049794e-05 2.12021410e-05 1.94029575e-05 2.28883446e-05\n",
            " 1.54851753e-05 1.72730431e-05 2.48055917e-05 1.73283271e-05\n",
            " 2.88127654e-05 1.82605242e-05 1.86215691e-05 2.73211854e-05\n",
            " 1.58344228e-05 1.69456589e-05 2.06953474e-05 1.12646456e-04\n",
            " 2.23109332e-05 1.44802860e-05 1.87073461e-05 1.96267231e-05\n",
            " 1.97063599e-05 1.15772115e-05 1.95342871e-05 2.28205504e-05\n",
            " 6.67840332e-05 4.34394897e-05 2.03489999e-05 3.27389195e-05\n",
            " 1.42938422e-05 1.37940462e-05 1.63887540e-05 1.72740055e-05\n",
            " 2.06190229e-05 1.81057006e-05 9.40001275e-05 2.10417343e-05\n",
            " 2.16218407e-05 1.41055920e-05 1.34814179e-05 1.55323309e-05\n",
            " 1.39580823e-05 1.94595103e-05 1.74119704e-05 1.82982248e-05\n",
            " 1.82136086e-05 1.88137179e-05 1.63468884e-05 2.54179032e-05\n",
            " 1.58610984e-05 1.50908407e-05 1.46233070e-05 1.62542170e-05\n",
            " 1.49052229e-05 5.08279983e-05 1.30476608e-05 2.35014391e-05\n",
            " 2.69625115e-05 1.32180807e-05 1.90555549e-05 3.62556614e-05\n",
            " 8.42886810e-04 2.98112003e-05 5.93975089e-05 1.68072219e-05\n",
            " 1.87648993e-05 1.82049459e-05 3.07407698e-05 1.91058011e-05\n",
            " 2.75334646e-05 2.23314296e-05 1.57742114e-05 1.88080024e-05\n",
            " 3.96161275e-05 2.76831516e-05 2.18611077e-05 1.81702629e-05\n",
            " 1.91456792e-05 1.45222132e-05 6.24252586e-04 2.32241706e-05\n",
            " 2.20193575e-05 1.37752280e-04 2.08521059e-05 2.40262241e-05\n",
            " 2.14789929e-05 2.52086764e-05 1.91055812e-05 1.71974173e-05\n",
            " 1.95036549e-05 2.29952452e-05 2.01247811e-05 6.82226272e-05\n",
            " 6.33850664e-05 1.99131986e-05 7.72716399e-03 1.91513239e-05\n",
            " 1.78165941e-05 3.59040573e-05 1.68404182e-05 1.57820735e-05\n",
            " 2.25784241e-02 4.95730335e-03 1.89911974e-05 1.47374210e-05\n",
            " 1.94725697e-05 2.03687547e-05 1.50225563e-05 1.46988713e-05\n",
            " 2.49858460e-05 1.59282715e-05 2.84869491e-05 4.38492483e-05\n",
            " 2.09777992e-05 1.37925304e-05 1.15782813e-04 5.63738356e-02\n",
            " 4.86957074e-04 6.09082212e-04 3.53837793e-03 2.59923900e-05\n",
            " 3.41814560e-04 3.49871706e-05 1.19744236e-03 1.47023922e-04\n",
            " 1.56079330e-05 8.65067616e-05 7.71674398e-07 2.66292358e-03\n",
            " 8.40012040e-04 1.16591843e-02 2.10188076e-03 5.16009568e-07\n",
            " 1.84784254e-02 1.31936416e-02 1.52870085e-02 7.31413534e-02\n",
            " 2.02068434e-02 2.28889916e-02 2.18692357e-02 1.06786168e-02\n",
            " 3.72832398e-02 2.47951829e-02 7.99852941e-03 9.09536705e-03\n",
            " 1.85379678e-02 2.21800626e-02 1.41465323e-02 9.54807395e-03\n",
            " 3.85811551e-03 5.30488230e-03 6.26807054e-03 2.67376228e-03\n",
            " 1.09458880e-02 1.28790594e-02 1.08018770e-02 5.68752454e-02\n",
            " 2.23088966e-02 1.96380168e-03 2.25606455e-03 2.51221943e-02\n",
            " 1.68134770e-02 1.68289470e-02 2.52443163e-02 4.12217671e-02\n",
            " 3.41766330e-02 1.86321559e-04 1.04262046e-04 1.77745266e-03\n",
            " 8.64471809e-03 3.91256172e-02 7.88925451e-04 1.93127255e-01]\n"
          ]
        }
      ],
      "source": [
        "feature_importances = rf_model.feature_importances_\n",
        "print(f\"Feature Importances: {feature_importances}\")\n"
      ]
    },
    {
      "cell_type": "code",
      "execution_count": null,
      "metadata": {
        "id": "3revX2FOywZP"
      },
      "outputs": [],
      "source": [
        "with torch.no_grad():  # Disable gradient calculation\n",
        "    y_pred_contrastive = model(X_test_tensor)\n",
        "\n",
        "# If it's a classification task, you may need to apply a softmax or argmax\n",
        "y_pred_contrastive = torch.argmax(y_pred_contrastive, dim=1).cpu().numpy()\n",
        "\n",
        "# Predictions from Supervised (Random Forest)\n",
        "y_pred_rf = rf_model.predict(X_test)\n"
      ]
    },
    {
      "cell_type": "code",
      "execution_count": null,
      "metadata": {
        "colab": {
          "base_uri": "https://localhost:8080/"
        },
        "id": "nHXrA6hb4dp5",
        "outputId": "03d3936f-cfee-49d0-d3b6-824e902a9197"
      },
      "outputs": [
        {
          "data": {
            "text/plain": [
              "array([115, 115, 115, ...,  32,  32, 185])"
            ]
          },
          "execution_count": 127,
          "metadata": {},
          "output_type": "execute_result"
        }
      ],
      "source": [
        "y_pred_contrastive"
      ]
    },
    {
      "cell_type": "code",
      "execution_count": null,
      "metadata": {
        "id": "-bPGMjn8nP4h"
      },
      "outputs": [],
      "source": []
    },
    {
      "cell_type": "code",
      "execution_count": null,
      "metadata": {
        "id": "-Mr4i-JyirGW"
      },
      "outputs": [],
      "source": [
        "y_pred_rf_proba = rf_model.predict_proba(X_test)[:, 1]\n"
      ]
    },
    {
      "cell_type": "code",
      "execution_count": null,
      "metadata": {
        "id": "vSqYN3E5kL_l"
      },
      "outputs": [],
      "source": [
        "model.eval()  # Set the model to evaluation mode\n",
        "with torch.no_grad():  # Disable gradient calculation during inference\n",
        "    outputs = model(X_test_tensor)  # Get the raw logits (for a batch of inputs)\n",
        "\n",
        "# Apply softmax to get probabilities\n",
        "y_pred_contrastive_proba = F.softmax(outputs, dim=1).numpy()  # Convert logits to probabilities\n",
        "\n",
        "\n",
        "y_pred_contrastive_proba = y_pred_contrastive_proba[:, 1]"
      ]
    },
    {
      "cell_type": "code",
      "execution_count": null,
      "metadata": {
        "colab": {
          "base_uri": "https://localhost:8080/"
        },
        "id": "y8qb71CdnUZL",
        "outputId": "c2b9b494-4eef-419f-ce4c-4023c6113448"
      },
      "outputs": [
        {
          "data": {
            "text/plain": [
              "array([0.00373232, 0.00351513, 0.0036473 , ..., 0.00289496, 0.00289496,\n",
              "       0.00377373], dtype=float32)"
            ]
          },
          "execution_count": 130,
          "metadata": {},
          "output_type": "execute_result"
        }
      ],
      "source": [
        "y_pred_contrastive_proba"
      ]
    },
    {
      "cell_type": "code",
      "execution_count": null,
      "metadata": {
        "colab": {
          "base_uri": "https://localhost:8080/"
        },
        "id": "FLsqgtqJnXgq",
        "outputId": "e6332773-03ee-4dcb-f645-08bd41a9c7ea"
      },
      "outputs": [
        {
          "data": {
            "text/plain": [
              "array([0.        , 0.        , 0.        , 0.        , 0.        ,\n",
              "       0.        , 0.        , 0.        , 0.        , 0.        ,\n",
              "       0.        , 0.        , 0.        , 0.        , 0.        ,\n",
              "       0.        , 0.        , 0.        , 0.        , 0.        ,\n",
              "       0.        , 0.        , 0.        , 0.        , 0.        ,\n",
              "       0.        , 0.        , 0.        , 0.        , 0.        ,\n",
              "       0.        , 0.        , 0.        , 0.        , 0.        ,\n",
              "       0.        , 0.        , 0.        , 0.        , 0.        ,\n",
              "       0.        , 0.        , 0.        , 0.        , 0.        ,\n",
              "       0.        , 0.        , 0.        , 0.        , 0.        ,\n",
              "       0.        , 0.        , 0.        , 0.        , 0.        ,\n",
              "       0.        , 0.        , 0.        , 0.        , 0.        ,\n",
              "       0.        , 0.        , 0.        , 0.        , 0.        ,\n",
              "       0.        , 0.        , 0.        , 0.        , 0.        ,\n",
              "       0.        , 0.        , 0.        , 0.        , 0.        ,\n",
              "       0.        , 0.        , 0.        , 0.        , 0.        ,\n",
              "       0.        , 0.        , 0.        , 0.        , 0.        ,\n",
              "       0.        , 0.        , 0.        , 0.        , 0.        ,\n",
              "       0.        , 0.        , 0.        , 0.        , 0.        ,\n",
              "       0.        , 0.        , 0.        , 0.        , 0.        ,\n",
              "       0.        , 0.        , 0.        , 0.        , 0.        ,\n",
              "       0.        , 0.        , 0.        , 0.        , 0.        ,\n",
              "       0.        , 0.        , 0.        , 0.        , 0.        ,\n",
              "       0.        , 0.        , 0.        , 0.        , 0.        ,\n",
              "       0.        , 0.        , 0.        , 0.        , 0.        ,\n",
              "       0.        , 0.        , 0.        , 0.        , 0.        ,\n",
              "       0.        , 0.        , 0.        , 0.        , 0.        ,\n",
              "       0.        , 0.        , 0.        , 0.        , 0.        ,\n",
              "       0.        , 0.        , 0.        , 0.        , 0.        ,\n",
              "       0.        , 0.        , 0.        , 0.        , 0.        ,\n",
              "       0.        , 0.        , 0.        , 0.        , 0.        ,\n",
              "       0.        , 0.        , 0.        , 0.        , 0.        ,\n",
              "       0.        , 0.        , 0.        , 0.        , 0.        ,\n",
              "       0.        , 0.        , 0.        , 0.        , 0.        ,\n",
              "       0.        , 0.        , 0.        , 0.        , 0.        ,\n",
              "       0.        , 0.        , 0.        , 0.        , 0.        ,\n",
              "       0.        , 0.        , 0.        , 0.        , 0.        ,\n",
              "       0.        , 0.        , 0.        , 0.        , 0.        ,\n",
              "       0.        , 0.        , 0.        , 0.        , 0.        ,\n",
              "       0.        , 0.        , 0.        , 0.        , 0.        ,\n",
              "       0.        , 0.        , 0.        , 0.        , 0.        ,\n",
              "       0.        , 0.        , 0.        , 0.        , 0.        ,\n",
              "       0.        , 0.        , 0.        , 0.        , 0.        ,\n",
              "       0.        , 0.        , 0.        , 0.        , 0.        ,\n",
              "       0.        , 0.00391941, 0.        , 0.        , 0.00391941,\n",
              "       0.        , 0.        , 0.        , 0.        , 0.        ,\n",
              "       0.        , 0.        , 0.        , 0.        , 0.        ,\n",
              "       0.        , 0.        , 0.        , 0.        , 0.        ,\n",
              "       0.        , 0.        , 0.        , 0.04640042, 0.04640042,\n",
              "       0.04640042, 0.04640042, 0.04763252, 0.04566214, 0.04566214,\n",
              "       0.04566214, 0.04566214, 0.        , 0.        , 0.        ,\n",
              "       0.        , 0.        , 0.        , 0.        , 0.        ,\n",
              "       0.        , 0.        , 0.        , 0.        , 0.        ,\n",
              "       0.        , 0.04075501, 0.04075501, 0.04075501, 0.04075501,\n",
              "       0.04075501, 0.        , 0.        , 0.        , 0.        ,\n",
              "       0.        , 0.        , 0.        , 0.        , 0.        ,\n",
              "       0.        , 0.        , 0.        , 0.        , 0.        ,\n",
              "       0.        , 0.        , 0.        , 0.        , 0.        ,\n",
              "       0.        , 0.        , 0.        , 0.        , 0.        ,\n",
              "       0.        , 0.        , 0.        , 0.        , 0.        ,\n",
              "       0.        , 0.        , 0.        , 0.        , 0.        ,\n",
              "       0.        , 0.        , 0.        , 0.        , 0.        ,\n",
              "       0.        , 0.        , 0.        , 0.        , 0.        ,\n",
              "       0.        , 0.        , 0.        , 0.        , 0.        ,\n",
              "       0.        , 0.        , 0.        , 0.        , 0.        ,\n",
              "       0.01      , 0.        , 0.        , 0.        , 0.        ,\n",
              "       0.        , 0.        , 0.        , 0.        , 0.        ,\n",
              "       0.        , 0.        , 0.        , 0.        , 0.01      ,\n",
              "       0.        , 0.        , 0.        , 0.        , 0.        ,\n",
              "       0.        , 0.        , 0.        , 0.        , 0.        ,\n",
              "       0.        , 0.        , 0.        , 0.        , 0.        ,\n",
              "       0.01      , 0.01      , 0.        , 0.        , 0.04849429,\n",
              "       0.04849429, 0.04849429, 0.04849429, 0.04849429, 0.04849429,\n",
              "       0.        , 0.        , 0.        , 0.        , 0.        ,\n",
              "       0.        , 0.04823104, 0.04823104, 0.04823104, 0.04823104,\n",
              "       0.        , 0.03507313, 0.03507313, 0.03507313, 0.        ,\n",
              "       0.        , 0.        , 0.        , 0.        , 0.        ,\n",
              "       0.        , 0.        , 0.        , 0.        , 0.        ,\n",
              "       0.        , 0.        , 0.        , 0.01      , 0.        ,\n",
              "       0.        , 0.        , 0.        , 0.        , 0.        ,\n",
              "       0.        , 0.05581451, 0.        , 0.        , 0.        ,\n",
              "       0.        , 0.        , 0.        , 0.01      , 0.        ,\n",
              "       0.        , 0.        , 0.        , 0.        , 0.        ,\n",
              "       0.01      , 0.        , 0.        , 0.        , 0.        ,\n",
              "       0.        , 0.        , 0.01      , 0.        , 0.        ,\n",
              "       0.01      , 0.02      , 0.        , 0.        , 0.        ,\n",
              "       0.        , 0.        , 0.        , 0.        , 0.        ,\n",
              "       0.        , 0.        , 0.        , 0.        , 0.05599506,\n",
              "       0.05599506, 0.        , 0.        , 0.        , 0.        ,\n",
              "       0.        , 0.        , 0.        , 0.        , 0.        ,\n",
              "       0.        , 0.        , 0.        , 0.        , 0.        ,\n",
              "       0.        , 0.        , 0.        , 0.        , 0.        ,\n",
              "       0.        , 0.05592554, 0.05592554, 0.05592554, 0.05432252,\n",
              "       0.05432252, 0.05432252, 0.05432252, 0.0486919 , 0.0486919 ,\n",
              "       0.0486919 , 0.0486919 , 0.        , 0.        , 0.0473989 ,\n",
              "       0.0473989 , 0.0473989 , 0.0473989 , 0.        , 0.        ,\n",
              "       0.        , 0.05676676, 0.0508001 , 0.0508001 , 0.0508001 ,\n",
              "       0.0539219 , 0.0539219 , 0.0539219 , 0.0539219 , 0.0539219 ,\n",
              "       0.05810544, 0.05232367, 0.        , 0.05232367, 0.        ,\n",
              "       0.04417946, 0.        , 0.04417946, 0.        , 0.        ,\n",
              "       0.04417946, 0.        , 0.04417946, 0.        , 0.04725157,\n",
              "       0.        , 0.        , 0.        , 0.        , 0.        ,\n",
              "       0.        , 0.0597728 , 0.04109312, 0.04109312, 0.0597728 ,\n",
              "       0.        , 0.0597728 , 0.        , 0.0597728 , 0.        ,\n",
              "       0.        , 0.0597728 , 0.        , 0.0497978 , 0.05581451,\n",
              "       0.0497978 , 0.05581451, 0.03965408, 0.05581451, 0.03965408,\n",
              "       0.05581451, 0.        , 0.05382429, 0.        , 0.05382429,\n",
              "       0.        , 0.05050297, 0.05050297, 0.        , 0.05050297,\n",
              "       0.01      , 0.04994677, 0.        , 0.04994677, 0.        ,\n",
              "       0.        , 0.04994677, 0.        , 0.04994677, 0.        ,\n",
              "       0.        , 0.04436017, 0.        , 0.        , 0.04436017,\n",
              "       0.01      , 0.04436017, 0.        , 0.0511134 , 0.        ,\n",
              "       0.0511134 , 0.        , 0.0511134 , 0.        , 0.0511134 ,\n",
              "       0.        , 0.0511134 , 0.        , 0.        , 0.04510127,\n",
              "       0.01      , 0.04376254, 0.        , 0.04376254, 0.04376254,\n",
              "       0.        , 0.05886424, 0.        , 0.05886424, 0.        ,\n",
              "       0.        , 0.05886424, 0.01      , 0.        , 0.        ,\n",
              "       0.        , 0.        , 0.        , 0.        , 0.06473079,\n",
              "       0.        , 0.        , 0.        , 0.        , 0.        ,\n",
              "       0.        , 0.        , 0.        , 0.        , 0.        ,\n",
              "       0.        , 0.        , 0.        , 0.        , 0.        ,\n",
              "       0.        , 0.        , 0.        , 0.        , 0.        ,\n",
              "       0.        , 0.        , 0.        , 0.        , 0.        ,\n",
              "       0.        , 0.        , 0.        , 0.        , 0.        ,\n",
              "       0.        , 0.        , 0.        , 0.        , 0.        ,\n",
              "       0.        , 0.        , 0.        , 0.        , 0.        ,\n",
              "       0.        , 0.        , 0.        , 0.        , 0.        ,\n",
              "       0.        , 0.        , 0.        , 0.        , 0.        ,\n",
              "       0.        , 0.        , 0.        , 0.        , 0.        ,\n",
              "       0.        , 0.        , 0.        , 0.        , 0.        ,\n",
              "       0.        , 0.        , 0.        , 0.        , 0.        ,\n",
              "       0.        , 0.        , 0.        , 0.        , 0.        ,\n",
              "       0.        , 0.        , 0.        , 0.        , 0.        ,\n",
              "       0.        , 0.        , 0.        , 0.        , 0.        ,\n",
              "       0.        , 0.        , 0.        , 0.        , 0.        ,\n",
              "       0.        , 0.        , 0.        , 0.        , 0.        ,\n",
              "       0.        , 0.        , 0.        , 0.        , 0.        ,\n",
              "       0.        , 0.        , 0.        , 0.        , 0.        ,\n",
              "       0.        , 0.        , 0.01      , 0.76      , 0.        ,\n",
              "       0.        , 0.        , 0.        , 0.        , 0.04640042,\n",
              "       0.04640042, 0.        , 0.04640042, 0.        , 0.04640042,\n",
              "       0.        , 0.04763252, 0.04763252, 0.        , 0.04566214,\n",
              "       0.        , 0.        , 0.        , 0.        , 0.        ,\n",
              "       0.        , 0.        , 0.        , 0.        , 0.        ,\n",
              "       0.        , 0.        , 0.        , 0.04      , 0.        ,\n",
              "       0.        , 0.        , 0.        , 0.        , 0.        ,\n",
              "       0.        , 0.        , 0.        , 0.        , 0.        ,\n",
              "       0.01      , 0.        , 0.        , 0.        , 0.01      ,\n",
              "       0.        , 0.        , 0.        , 0.        , 0.        ,\n",
              "       0.        , 0.04109312, 0.        , 0.04109312, 0.        ,\n",
              "       0.        , 0.        , 0.        , 0.        , 0.        ,\n",
              "       0.        , 0.        , 0.        , 0.        , 0.02      ,\n",
              "       0.        , 0.        , 0.        , 0.        , 0.04075501,\n",
              "       0.04075501, 0.04075501, 0.        , 0.        , 0.        ,\n",
              "       0.        , 0.        , 0.        , 0.        , 0.        ,\n",
              "       0.        , 0.        , 0.        , 0.        , 0.        ,\n",
              "       0.        , 0.        , 0.        , 0.        , 0.        ,\n",
              "       0.        , 0.        , 0.        , 0.        , 0.        ,\n",
              "       0.        , 0.        , 0.        , 0.        , 0.        ,\n",
              "       0.        , 0.        , 0.        , 0.        , 0.        ])"
            ]
          },
          "execution_count": 131,
          "metadata": {},
          "output_type": "execute_result"
        }
      ],
      "source": [
        "y_pred_rf_proba[:800]"
      ]
    },
    {
      "cell_type": "code",
      "execution_count": null,
      "metadata": {
        "id": "oAR-R9W5jDWx"
      },
      "outputs": [],
      "source": [
        "y_pred_ensemble = (y_pred_contrastive_proba + y_pred_rf_proba) / 2"
      ]
    },
    {
      "cell_type": "code",
      "execution_count": null,
      "metadata": {
        "id": "zczeXASsjVdZ"
      },
      "outputs": [],
      "source": [
        "weight_contrastive = 0.6\n",
        "weight_rf = 0.4"
      ]
    },
    {
      "cell_type": "code",
      "execution_count": null,
      "metadata": {
        "id": "OFfw-e0ekdFT"
      },
      "outputs": [],
      "source": [
        "y_pred_ensemble = (weight_contrastive * y_pred_contrastive) + (weight_rf * y_pred_rf_proba)"
      ]
    },
    {
      "cell_type": "code",
      "execution_count": null,
      "metadata": {
        "colab": {
          "base_uri": "https://localhost:8080/"
        },
        "id": "fFn6n91moG7I",
        "outputId": "016298fd-cfb5-4177-94d6-0df78febd85d"
      },
      "outputs": [
        {
          "data": {
            "text/plain": [
              "array([ 69. ,  69. ,  69. , ...,  19.2,  19.2, 111. ])"
            ]
          },
          "execution_count": 135,
          "metadata": {},
          "output_type": "execute_result"
        }
      ],
      "source": [
        "y_pred_ensemble"
      ]
    },
    {
      "cell_type": "code",
      "execution_count": null,
      "metadata": {
        "id": "S3ftLECAkmmb"
      },
      "outputs": [],
      "source": [
        "y_pred_final = (y_pred_ensemble > 0.7).astype(int)"
      ]
    },
    {
      "cell_type": "code",
      "execution_count": null,
      "metadata": {
        "colab": {
          "base_uri": "https://localhost:8080/"
        },
        "id": "lQomrhjam__n",
        "outputId": "db4e30b0-8fe4-42da-e03f-7e7dc2860749"
      },
      "outputs": [
        {
          "data": {
            "text/plain": [
              "array([1, 1, 1, 1, 1, 1, 1, 1, 1, 1, 1, 1, 1, 1, 1, 1, 1, 1, 1, 1, 1, 1,\n",
              "       1, 1, 1, 1, 1, 1, 1, 1, 1, 1, 1, 1, 1, 1, 1, 1, 1, 1, 1, 1, 1, 1,\n",
              "       1, 1, 1, 1, 1, 1, 1, 1, 1, 1, 1, 1, 1, 1, 1, 1, 1, 1, 1, 1, 1, 1,\n",
              "       1, 1, 1, 1, 1, 1, 1, 1, 1, 1, 1, 1, 1, 1, 1, 1, 1, 1, 1, 1, 1, 1,\n",
              "       1, 1, 1, 1, 1, 1, 1, 1, 1, 1, 1, 1, 1, 1, 1, 1, 1, 1, 1, 1, 1, 1,\n",
              "       1, 1, 1, 1, 1, 1, 1, 1, 1, 1, 1, 1, 1, 1, 1, 1, 1, 1, 1, 1, 1, 1,\n",
              "       1, 1, 1, 1, 1, 1, 1, 1, 1, 1, 1, 1, 1, 1, 1, 1, 1, 1, 1, 1, 1, 1,\n",
              "       1, 1, 1, 1, 1, 1, 1, 1, 1, 1, 1, 1, 1, 1, 1, 1, 1, 1, 1, 1, 1, 1,\n",
              "       1, 1, 1, 1, 1, 1, 1, 1, 1, 1, 1, 1, 1, 1, 1, 1, 1, 1, 1, 1, 1, 1,\n",
              "       1, 1, 1, 1, 1, 1, 1, 1, 1, 1, 1, 1, 1, 1, 1, 1, 1, 1, 1, 1, 1, 1,\n",
              "       1, 1, 1, 1, 1, 1, 1, 1, 1, 1, 1, 1, 1, 1, 1, 1, 1, 1, 1, 1, 1, 1,\n",
              "       1, 1, 1, 1, 1, 1, 1, 1, 1, 1, 1, 1, 1, 1, 1, 1, 1, 1, 1, 1, 1, 1,\n",
              "       1, 1, 1, 1, 1, 1, 1, 1, 1, 1, 1, 1, 1, 1, 1, 1, 1, 1, 1, 1, 1, 1,\n",
              "       1, 1, 1, 1, 1, 1, 1, 1, 1, 1, 1, 1, 1, 1, 1, 1, 1, 1, 1, 1, 1, 1,\n",
              "       1, 1, 1, 1, 1, 1, 1, 1, 1, 1, 1, 1, 1, 1, 1, 1, 1, 1, 1, 1, 1, 1,\n",
              "       1, 1, 1, 1, 1, 1, 1, 1, 1, 1, 1, 1, 1, 1, 1, 1, 1, 1, 1, 1, 1, 1,\n",
              "       1, 1, 1, 1, 1, 1, 1, 1, 1, 1, 1, 1, 1, 1, 1, 1, 1, 1, 1, 1, 1, 1,\n",
              "       1, 1, 1, 1, 1, 1, 1, 1, 1, 1, 1, 1, 1, 1, 1, 1, 1, 1, 1, 1, 1, 1,\n",
              "       1, 1, 1, 1, 1, 1, 1, 1, 1, 1, 1, 1, 1, 1, 1, 1, 1, 1, 1, 1, 1, 1,\n",
              "       1, 1, 1, 1, 1, 1, 1, 1, 1, 1, 1, 1, 1, 1, 1, 1, 1, 1, 1, 1, 1, 1,\n",
              "       1, 1, 1, 1, 1, 1, 1, 1, 1, 1, 1, 1, 1, 1, 1, 1, 1, 1, 1, 1, 1, 1,\n",
              "       1, 1, 1, 1, 1, 1, 1, 1, 1, 1, 1, 1, 1, 1, 1, 1, 1, 1, 1, 1, 1, 1,\n",
              "       1, 1, 1, 1, 1, 1, 1, 1, 1, 1, 1, 1, 1, 1, 1, 1, 1, 1, 1, 1, 1, 1,\n",
              "       1, 1, 1, 1, 1, 1, 1, 1, 1, 1, 1, 1, 1, 1, 1, 1, 1, 1, 1, 1, 1, 1,\n",
              "       1, 1, 1, 1, 1, 1, 1, 1, 1, 1, 1, 1, 1, 1, 1, 1, 1, 1, 1, 1, 1, 1,\n",
              "       1, 1, 1, 1, 1, 1, 1, 1, 1, 1, 1, 1, 1, 1, 1, 1, 1, 1, 1, 1, 1, 1,\n",
              "       1, 1, 1, 1, 1, 1, 1, 1, 1, 1, 1, 1, 1, 1, 1, 1, 1, 1, 1, 1, 1, 1,\n",
              "       1, 1, 1, 1, 1, 1, 1, 1, 1, 1, 1, 1, 1, 1, 1, 1, 1, 1, 1, 1, 1, 1,\n",
              "       1, 1, 1, 1, 1, 1, 1, 1, 1, 1, 1, 1, 1, 1, 1, 1, 1, 1, 1, 1, 1, 1,\n",
              "       1, 1, 1, 1, 1, 1, 1, 1, 1, 1, 1, 1, 1, 1, 1, 1, 1, 1, 1, 1, 1, 1,\n",
              "       1, 1, 1, 1, 1, 1, 1, 1, 1, 1, 1, 1, 1, 1, 1, 1, 1, 1, 1, 1, 1, 1,\n",
              "       1, 1, 1, 1, 1, 1, 1, 1, 1, 1, 1, 1, 1, 1, 1, 1, 1, 1])"
            ]
          },
          "execution_count": 137,
          "metadata": {},
          "output_type": "execute_result"
        }
      ],
      "source": [
        "y_pred_final[:700]"
      ]
    },
    {
      "cell_type": "code",
      "execution_count": null,
      "metadata": {
        "colab": {
          "base_uri": "https://localhost:8080/"
        },
        "id": "BTvQl1Jpkpli",
        "outputId": "2121b72b-73cb-43ad-a667-36ddf7b1d9bd"
      },
      "outputs": [
        {
          "name": "stdout",
          "output_type": "stream",
          "text": [
            "Ensemble Accuracy: 0.0\n"
          ]
        }
      ],
      "source": [
        "ensemble_accuracy = accuracy_score(y_test_super, y_pred_final)\n",
        "print(f'Ensemble Accuracy: {ensemble_accuracy}')"
      ]
    },
    {
      "cell_type": "code",
      "execution_count": null,
      "metadata": {
        "id": "fhz4kpf9ktUw"
      },
      "outputs": [],
      "source": [
        "import torch\n",
        "import torch.nn.functional as F\n",
        "\n",
        "# Assuming model is your contrastive learning model\n",
        "model.eval()  # Set the model to evaluation mode\n",
        "with torch.no_grad():\n",
        "    logits = model(X_test_tensor)  # Get the raw logits\n",
        "\n",
        "# Apply softmax to convert logits to probabilities\n",
        "y_pred_contrastive_proba = F.softmax(logits, dim=1).numpy()\n"
      ]
    },
    {
      "cell_type": "code",
      "execution_count": null,
      "metadata": {
        "colab": {
          "base_uri": "https://localhost:8080/"
        },
        "id": "2ZvK69xEohmm",
        "outputId": "93c322ce-b30e-4610-95fa-408b8d3f44ab"
      },
      "outputs": [
        {
          "name": "stdout",
          "output_type": "stream",
          "text": [
            "(82332, 10)\n"
          ]
        }
      ],
      "source": [
        "y_pred_rf_proba = rf_model.predict_proba(X_test)\n",
        "print(y_pred_rf_proba.shape)\n"
      ]
    },
    {
      "cell_type": "code",
      "execution_count": null,
      "metadata": {
        "id": "U5KDaCQ1ooBf"
      },
      "outputs": [],
      "source": [
        "# For binary classification, using the probabilities for the positive class (index 1 for 2D arrays)\n",
        "if len(y_pred_contrastive_proba.shape) == 2:\n",
        "    y_pred_contrastive_proba = y_pred_contrastive_proba[:, 1]  # Use class 1 probabilities\n",
        "\n",
        "# If Random Forest predictions are already probabilities\n",
        "if len(y_pred_rf_proba.shape) == 2:\n",
        "    y_pred_rf_proba = y_pred_rf_proba[:, 1]  # Use class 1 probabilities\n",
        "\n",
        "# Now combine probabilities\n",
        "y_pred_ensemble = 0.5 * y_pred_contrastive_proba + 0.5 * y_pred_rf_proba\n",
        "\n",
        "# Apply a threshold to convert probabilities to class labels\n",
        "y_pred_final = (y_pred_ensemble > 0.5).astype(int)\n"
      ]
    },
    {
      "cell_type": "code",
      "execution_count": null,
      "metadata": {
        "colab": {
          "base_uri": "https://localhost:8080/"
        },
        "id": "LgYugW1xpKQL",
        "outputId": "fe33139a-426d-4355-969d-b849f1216574"
      },
      "outputs": [
        {
          "name": "stdout",
          "output_type": "stream",
          "text": [
            "Shape of contrastive proba: (82332,)\n",
            "Shape of RF proba: (82332,)\n"
          ]
        }
      ],
      "source": [
        "print(\"Shape of contrastive proba:\", y_pred_contrastive_proba.shape)\n",
        "print(\"Shape of RF proba:\", y_pred_rf_proba.shape)\n"
      ]
    },
    {
      "cell_type": "code",
      "execution_count": null,
      "metadata": {
        "id": "2zrzq__qpNdg"
      },
      "outputs": [],
      "source": [
        "# Assuming both are 1D arrays containing probabilities for class 1\n",
        "y_pred_contrastive_proba = y_pred_contrastive_proba\n",
        "y_pred_rf_proba = y_pred_rf_proba\n",
        "\n",
        "# Combine the probabilities\n",
        "y_pred_ensemble = 0.5 * y_pred_contrastive_proba + 0.5 * y_pred_rf_proba\n",
        "\n",
        "# Apply a threshold to convert to class labels\n",
        "y_pred_final = (y_pred_ensemble > 0.00).astype(int)\n",
        "\n"
      ]
    },
    {
      "cell_type": "code",
      "execution_count": null,
      "metadata": {
        "colab": {
          "base_uri": "https://localhost:8080/"
        },
        "id": "7k9G4PDfqqr-",
        "outputId": "54c2aea9-b267-4e86-cc71-c185e19aa637"
      },
      "outputs": [
        {
          "name": "stdout",
          "output_type": "stream",
          "text": [
            "1.915304e-07 0.004461867\n",
            "0.0 0.87\n"
          ]
        }
      ],
      "source": [
        "print(np.min(y_pred_contrastive_proba), np.max(y_pred_contrastive_proba))\n",
        "print(np.min(y_pred_rf_proba), np.max(y_pred_rf_proba))\n"
      ]
    },
    {
      "cell_type": "code",
      "execution_count": null,
      "metadata": {
        "id": "tyxwxsu7rEQO"
      },
      "outputs": [],
      "source": [
        "y_pred_final = (y_pred_ensemble > 0.3).astype(int)  # Try with a lower threshold"
      ]
    },
    {
      "cell_type": "code",
      "execution_count": null,
      "metadata": {
        "id": "Us80UB86rJ12"
      },
      "outputs": [],
      "source": [
        "y_pred_ensemble = 0.7 * y_pred_contrastive_proba + 0.3 * y_pred_rf_proba\n"
      ]
    },
    {
      "cell_type": "code",
      "execution_count": null,
      "metadata": {
        "colab": {
          "base_uri": "https://localhost:8080/"
        },
        "id": "ykp2ygmjrNdc",
        "outputId": "4756ffd7-5dde-4aff-b9c1-4b0c1fe5ca06"
      },
      "outputs": [
        {
          "data": {
            "text/plain": [
              "array([0.00261262, 0.00246059, 0.00255311, 0.00259691, 0.00242946,\n",
              "       0.00258647, 0.0024161 , 0.00252225, 0.00204   , 0.00204   ,\n",
              "       0.00204   , 0.00204   , 0.00244641, 0.00240765, 0.00243155,\n",
              "       0.00254382, 0.00266693, 0.00246793, 0.00217178, 0.00229723,\n",
              "       0.00241203, 0.00264275, 0.00253234, 0.00236479, 0.0026821 ,\n",
              "       0.00250193, 0.00259443, 0.00214674, 0.00263789, 0.00237957,\n",
              "       0.0026117 , 0.00233962, 0.00234566, 0.00259555, 0.00236297,\n",
              "       0.00228727, 0.00233692, 0.00202934, 0.00202934, 0.00202934,\n",
              "       0.00228025, 0.00202934, 0.00235627, 0.0023402 , 0.00238074,\n",
              "       0.00225879, 0.00233336, 0.00233796, 0.00228778, 0.0023162 ,\n",
              "       0.00237078, 0.00236578, 0.00257265, 0.00257265, 0.00257265,\n",
              "       0.00234275, 0.00237123, 0.00262271, 0.00262271, 0.00262271,\n",
              "       0.0026197 , 0.00261951, 0.0026197 , 0.0026197 , 0.00261951,\n",
              "       0.00261951, 0.00235634, 0.00254646, 0.00254842, 0.00257547,\n",
              "       0.00257692, 0.00257547, 0.0022966 , 0.00257692, 0.00257602,\n",
              "       0.00257602, 0.00257602, 0.00233695, 0.0026262 , 0.0026252 ])"
            ]
          },
          "execution_count": 147,
          "metadata": {},
          "output_type": "execute_result"
        }
      ],
      "source": [
        "y_pred_ensemble[:80]"
      ]
    },
    {
      "cell_type": "code",
      "execution_count": null,
      "metadata": {
        "id": "kRZgqAiArRMv"
      },
      "outputs": [],
      "source": [
        "y_pred_final = (y_pred_ensemble > 0.1).astype(int)  # Lower threshold to 0.1\n"
      ]
    },
    {
      "cell_type": "code",
      "execution_count": null,
      "metadata": {
        "colab": {
          "base_uri": "https://localhost:8080/"
        },
        "id": "omV8siDzwpES",
        "outputId": "0896c3d0-f1db-4cf8-a928-1beff5e98e49"
      },
      "outputs": [
        {
          "name": "stdout",
          "output_type": "stream",
          "text": [
            "<class 'numpy.ndarray'>\n",
            "<class 'numpy.ndarray'>\n"
          ]
        }
      ],
      "source": [
        "print(type(y_test_super))\n",
        "print(type(y_pred_final))"
      ]
    },
    {
      "cell_type": "code",
      "execution_count": null,
      "metadata": {
        "id": "pr3tTg33wvKx"
      },
      "outputs": [],
      "source": [
        "y_pred_final = (y_pred_ensemble > 0.1).astype(int)"
      ]
    },
    {
      "cell_type": "code",
      "execution_count": null,
      "metadata": {
        "id": "kmLpnntMxXtJ"
      },
      "outputs": [],
      "source": [
        "import numpy as np\n",
        "\n",
        "# Using numpy to map the values\n",
        "y_test_super = np.where(y_test_super == 'positive', 1, 0)"
      ]
    },
    {
      "cell_type": "code",
      "execution_count": null,
      "metadata": {
        "colab": {
          "base_uri": "https://localhost:8080/"
        },
        "id": "muel1Uk2rf8q",
        "outputId": "24783697-6406-42d3-d7d0-096513927e1a"
      },
      "outputs": [
        {
          "name": "stdout",
          "output_type": "stream",
          "text": [
            "Accuracy: 0.9993076810960502\n"
          ]
        }
      ],
      "source": [
        "\n",
        "from sklearn.metrics import accuracy_score, precision_score, recall_score, f1_score\n",
        "\n",
        "print(\"Accuracy:\", accuracy_score(y_test_super, y_pred_final))"
      ]
    },
    {
      "cell_type": "code",
      "execution_count": null,
      "metadata": {
        "id": "pZKNtCwl7tOe"
      },
      "outputs": [],
      "source": []
    }
  ],
  "metadata": {
    "colab": {
      "provenance": []
    },
    "kernelspec": {
      "display_name": "Python 3",
      "name": "python3"
    },
    "language_info": {
      "name": "python"
    }
  },
  "nbformat": 4,
  "nbformat_minor": 0
}